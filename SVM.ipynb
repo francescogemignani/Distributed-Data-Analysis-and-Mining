{
 "cells": [
  {
   "cell_type": "markdown",
   "id": "exclusive-shareware",
   "metadata": {},
   "source": [
    "# Multiclass Linear SVC\n",
    "Per generalizzare il problema su più classi, abbiamo utilizzato OneVsRest con 6 classificatori binari LinearSVC. Gli step effettuati sono i seguenti:\n",
    "- Importo il dataset\n",
    "- Elimino attributi categorici e non necessari\n",
    "- Assemblo le features\n",
    "- Normalizzo i dati\n",
    "- Univariate Feature Reduction\n",
    "- Label encoding (necessario per linearsvc e logistic regression)\n",
    "- Sampling (solo per il tuning dei parametri)\n",
    "- Split Training/Test set\n",
    "- Fitting & Prediction del/i modello/i\n",
    "- Evaluation"
   ]
  },
  {
   "cell_type": "code",
   "execution_count": 2,
   "id": "vulnerable-charleston",
   "metadata": {},
   "outputs": [],
   "source": [
    "import pandas as pd\n",
    "import numpy as np\n",
    "\n",
    "from pyspark.sql import SparkSession\n",
    "from pyspark.ml.linalg import Vectors\n",
    "from pyspark.ml.feature import VectorAssembler, MinMaxScaler, StringIndexer, IndexToString\n",
    "from pyspark.ml.feature import PCA, UnivariateFeatureSelector\n",
    "from pyspark.ml.classification import LinearSVC, OneVsRest\n",
    "from pyspark.ml.evaluation import MulticlassClassificationEvaluator\n",
    "from pyspark.sql.functions import *"
   ]
  },
  {
   "cell_type": "code",
   "execution_count": 3,
   "id": "animated-corner",
   "metadata": {},
   "outputs": [],
   "source": [
    "spark = SparkSession.builder \\\n",
    "    .master(\"local\") \\\n",
    "    .appName(\"Multiclass LinearSVC\") \\\n",
    "    .getOrCreate()"
   ]
  },
  {
   "cell_type": "markdown",
   "id": "indian-honduras",
   "metadata": {},
   "source": [
    "### Importo il dataset"
   ]
  },
  {
   "cell_type": "code",
   "execution_count": 4,
   "id": "excess-management",
   "metadata": {},
   "outputs": [],
   "source": [
    "data = spark.read.csv(\"GROUP2.csv.gz\", header=True, sep=',',inferSchema=\"true\")\n",
    "data = data.withColumnRenamed('winPlaceClass', 'label')"
   ]
  },
  {
   "cell_type": "code",
   "execution_count": 5,
   "id": "average-proportion",
   "metadata": {},
   "outputs": [
    {
     "name": "stdout",
     "output_type": "stream",
     "text": [
      "root\n",
      " |-- groupId: string (nullable = true)\n",
      " |-- matchId: string (nullable = true)\n",
      " |-- matchDuration: integer (nullable = true)\n",
      " |-- label: integer (nullable = true)\n",
      " |-- isFirstPerson: boolean (nullable = true)\n",
      " |-- matchtype: integer (nullable = true)\n",
      " |-- maxPlace: integer (nullable = true)\n",
      " |-- numGroups: integer (nullable = true)\n",
      " |-- hasDisconnected: integer (nullable = true)\n",
      " |-- assist_SUM: integer (nullable = true)\n",
      " |-- assist_MAX: integer (nullable = true)\n",
      " |-- assist_AVG: integer (nullable = true)\n",
      " |-- heals_SUM: integer (nullable = true)\n",
      " |-- heals_MAX: integer (nullable = true)\n",
      " |-- heals_AVG: integer (nullable = true)\n",
      " |-- kills_SUM: integer (nullable = true)\n",
      " |-- kills_MAX: integer (nullable = true)\n",
      " |-- kills_AVG: integer (nullable = true)\n",
      " |-- headshotKills_SUM: integer (nullable = true)\n",
      " |-- headshotKills_MAX: integer (nullable = true)\n",
      " |-- headshotKills_AVG: integer (nullable = true)\n",
      " |-- killStreaks_MAX: integer (nullable = true)\n",
      " |-- roadKills_SUM: integer (nullable = true)\n",
      " |-- roadKills_MAX: integer (nullable = true)\n",
      " |-- roadKills_AVG: integer (nullable = true)\n",
      " |-- longestKill_MAX: double (nullable = true)\n",
      " |-- vehicleDestroys_MAX: integer (nullable = true)\n",
      " |-- weaponsAcquired_SUM: integer (nullable = true)\n",
      " |-- weaponsAcquired_MAX: integer (nullable = true)\n",
      " |-- weaponsAcquired_AVG: integer (nullable = true)\n",
      " |-- damageDealt_SUM: double (nullable = true)\n",
      " |-- damageDealt_MAX: double (nullable = true)\n",
      " |-- damageDealt_AVG: double (nullable = true)\n",
      " |-- distance_SUM: double (nullable = true)\n",
      " |-- distance_MAX: double (nullable = true)\n",
      " |-- distance_AVG: double (nullable = true)\n",
      " |-- rideDistance_SUM: double (nullable = true)\n",
      " |-- rideDistance_MAX: double (nullable = true)\n",
      " |-- rideDistance_AVG: double (nullable = true)\n",
      " |-- swimDistance_SUM: double (nullable = true)\n",
      " |-- swimDistance_MAX: double (nullable = true)\n",
      " |-- swimDistance_AVG: double (nullable = true)\n",
      " |-- walkDistance_SUM: double (nullable = true)\n",
      " |-- walkDistance_MAX: double (nullable = true)\n",
      " |-- walkDistance_AVG: double (nullable = true)\n",
      " |-- DBNOs_SUM: integer (nullable = true)\n",
      " |-- DBNOs_MAX: integer (nullable = true)\n",
      " |-- DBNOs_AVG: integer (nullable = true)\n",
      " |-- revives_SUM: integer (nullable = true)\n",
      " |-- revives_MAX: integer (nullable = true)\n",
      " |-- revives_AVG: integer (nullable = true)\n",
      " |-- teamKills_SUM: integer (nullable = true)\n",
      " |-- teamKills_MAX: integer (nullable = true)\n",
      " |-- teamKills_AVG: integer (nullable = true)\n",
      " |-- killPlace_MAX: integer (nullable = true)\n",
      " |-- rankPoints_MAX: integer (nullable = true)\n",
      " |-- killPoints_MAX: integer (nullable = true)\n",
      " |-- winPoints_MAX: integer (nullable = true)\n",
      "\n"
     ]
    }
   ],
   "source": [
    "data.printSchema()"
   ]
  },
  {
   "cell_type": "code",
   "execution_count": 6,
   "id": "systematic-starter",
   "metadata": {},
   "outputs": [],
   "source": [
    "# Elimino gli attributi non necessari\n",
    "inputCols =  data.columns\n",
    "toRemove = ['matchId', 'groupId', 'killPlace_MAX', 'rankPoints_MAX', 'killPoints_MAX', 'winPoints_MAX', 'label','isFirstPerson']\n",
    "inputCols = list(set(inputCols) - set(toRemove))"
   ]
  },
  {
   "cell_type": "markdown",
   "id": "assured-operator",
   "metadata": {},
   "source": [
    "#### Assemblo le features"
   ]
  },
  {
   "cell_type": "code",
   "execution_count": 16,
   "id": "maritime-minimum",
   "metadata": {},
   "outputs": [],
   "source": [
    "assemble = VectorAssembler(inputCols = inputCols, outputCol = 'features')\n",
    "data = assemble.transform(data)"
   ]
  },
  {
   "cell_type": "code",
   "execution_count": 17,
   "id": "casual-union",
   "metadata": {},
   "outputs": [
    {
     "name": "stdout",
     "output_type": "stream",
     "text": [
      "+--------------------+-----+\n",
      "|            features|label|\n",
      "+--------------------+-----+\n",
      "|(50,[0,1,2,3,8,9,...|    4|\n",
      "|(50,[1,2,3,8,9,13...|    4|\n",
      "|(50,[0,1,2,3,9,13...|    4|\n",
      "|(50,[1,2,3,4,8,9,...|    2|\n",
      "|(50,[0,1,2,3,8,9,...|    4|\n",
      "+--------------------+-----+\n",
      "only showing top 5 rows\n",
      "\n"
     ]
    }
   ],
   "source": [
    "data.select(\"features\",\"label\").show(5)"
   ]
  },
  {
   "cell_type": "markdown",
   "id": "worst-botswana",
   "metadata": {},
   "source": [
    "#### Normalizzo i dati"
   ]
  },
  {
   "cell_type": "code",
   "execution_count": 18,
   "id": "accepting-supervisor",
   "metadata": {},
   "outputs": [],
   "source": [
    "scaler = MinMaxScaler(inputCol='features',outputCol=\"scaled\")\n",
    "data = scaler.fit(data).transform(data)"
   ]
  },
  {
   "cell_type": "code",
   "execution_count": 19,
   "id": "answering-telephone",
   "metadata": {},
   "outputs": [
    {
     "name": "stdout",
     "output_type": "stream",
     "text": [
      "+--------------------+-----+\n",
      "|              scaled|label|\n",
      "+--------------------+-----+\n",
      "|(50,[0,1,2,3,8,9,...|    4|\n",
      "|(50,[1,2,3,8,9,13...|    4|\n",
      "|(50,[0,1,2,9,13,2...|    4|\n",
      "|(50,[1,2,4,8,9,10...|    2|\n",
      "|(50,[0,1,2,3,8,9,...|    4|\n",
      "+--------------------+-----+\n",
      "only showing top 5 rows\n",
      "\n"
     ]
    }
   ],
   "source": [
    "data.select(\"scaled\",\"label\").show(5)"
   ]
  },
  {
   "cell_type": "markdown",
   "id": "typical-spice",
   "metadata": {},
   "source": [
    "#### Univariate Feature Selector"
   ]
  },
  {
   "cell_type": "code",
   "execution_count": 20,
   "id": "heard-developer",
   "metadata": {},
   "outputs": [],
   "source": [
    "selector = UnivariateFeatureSelector(featuresCol='scaled',labelCol='label',outputCol='selected')\n",
    "selector.setFeatureType(\"continuous\").setLabelType(\"categorical\").setSelectionThreshold(25)\n",
    "data = selector.fit(data).transform(data)"
   ]
  },
  {
   "cell_type": "code",
   "execution_count": 21,
   "id": "based-difficulty",
   "metadata": {},
   "outputs": [
    {
     "name": "stdout",
     "output_type": "stream",
     "text": [
      "+--------------------+-----+\n",
      "|            selected|label|\n",
      "+--------------------+-----+\n",
      "|(25,[0,1,2,3,8,9,...|    4|\n",
      "|(25,[1,2,3,8,9,13...|    4|\n",
      "|(25,[0,1,2,9,13,2...|    4|\n",
      "|(25,[1,2,4,8,9,10...|    2|\n",
      "|(25,[0,1,2,3,8,9,...|    4|\n",
      "+--------------------+-----+\n",
      "only showing top 5 rows\n",
      "\n"
     ]
    }
   ],
   "source": [
    "data.select(\"selected\",\"label\").show(5)"
   ]
  },
  {
   "cell_type": "markdown",
   "id": "returning-grace",
   "metadata": {},
   "source": [
    "#### Labels encoding"
   ]
  },
  {
   "cell_type": "code",
   "execution_count": 22,
   "id": "velvet-referral",
   "metadata": {},
   "outputs": [],
   "source": [
    "encoder = StringIndexer(inputCol=\"label\", outputCol=\"label_enc\",handleInvalid='keep')\n",
    "model_enc = encoder.fit(data)\n",
    "data = model_enc.transform(data)"
   ]
  },
  {
   "cell_type": "code",
   "execution_count": 23,
   "id": "extra-female",
   "metadata": {},
   "outputs": [
    {
     "name": "stdout",
     "output_type": "stream",
     "text": [
      "+--------------------+-----+---------+\n",
      "|            selected|label|label_enc|\n",
      "+--------------------+-----+---------+\n",
      "|(25,[0,1,2,3,8,9,...|    4|      0.0|\n",
      "|(25,[1,2,3,8,9,13...|    4|      0.0|\n",
      "|(25,[0,1,2,9,13,2...|    4|      0.0|\n",
      "|(25,[1,2,4,8,9,10...|    2|      3.0|\n",
      "|(25,[0,1,2,3,8,9,...|    4|      0.0|\n",
      "+--------------------+-----+---------+\n",
      "only showing top 5 rows\n",
      "\n"
     ]
    }
   ],
   "source": [
    "data.select(\"selected\",\"label\",\"label_enc\").show(5)"
   ]
  },
  {
   "cell_type": "code",
   "execution_count": 24,
   "id": "digital-platform",
   "metadata": {},
   "outputs": [
    {
     "name": "stdout",
     "output_type": "stream",
     "text": [
      "+-----+------+\n",
      "|label| count|\n",
      "+-----+------+\n",
      "|    1| 47115|\n",
      "|    2|471233|\n",
      "|    3|471681|\n",
      "|    4|496460|\n",
      "|    5|480416|\n",
      "|    6| 47185|\n",
      "+-----+------+\n",
      "\n"
     ]
    }
   ],
   "source": [
    "data.select(\"label\").groupby(\"label\").count().sort(\"label\").show(10)"
   ]
  },
  {
   "cell_type": "code",
   "execution_count": 25,
   "id": "beneficial-click",
   "metadata": {},
   "outputs": [
    {
     "name": "stdout",
     "output_type": "stream",
     "text": [
      "+---------+------+\n",
      "|label_enc| count|\n",
      "+---------+------+\n",
      "|      0.0|496460|\n",
      "|      1.0|480416|\n",
      "|      2.0|471681|\n",
      "|      3.0|471233|\n",
      "|      4.0| 47185|\n",
      "|      5.0| 47115|\n",
      "+---------+------+\n",
      "\n"
     ]
    }
   ],
   "source": [
    "data.select(\"label_enc\").groupby(\"label_enc\").count().sort(\"label_enc\").show(10)"
   ]
  },
  {
   "cell_type": "markdown",
   "id": "banned-debate",
   "metadata": {},
   "source": [
    "#### Sampling"
   ]
  },
  {
   "cell_type": "code",
   "execution_count": 26,
   "id": "loose-delay",
   "metadata": {},
   "outputs": [],
   "source": [
    "data = data.sample(withReplacement=False, fraction=1.0, seed=42)"
   ]
  },
  {
   "cell_type": "code",
   "execution_count": 27,
   "id": "serious-detector",
   "metadata": {},
   "outputs": [
    {
     "name": "stdout",
     "output_type": "stream",
     "text": [
      "+--------------------+-----+---------+\n",
      "|            features|label|label_enc|\n",
      "+--------------------+-----+---------+\n",
      "|(25,[0,1,2,3,8,9,...|    4|      0.0|\n",
      "|(25,[1,2,3,8,9,13...|    4|      0.0|\n",
      "|(25,[0,1,2,9,13,2...|    4|      0.0|\n",
      "|(25,[1,2,4,8,9,10...|    2|      3.0|\n",
      "|(25,[0,1,2,3,8,9,...|    4|      0.0|\n",
      "+--------------------+-----+---------+\n",
      "only showing top 5 rows\n",
      "\n"
     ]
    }
   ],
   "source": [
    "data = data.select(\"selected\",\"label\",\"label_enc\")\n",
    "data = data.withColumnRenamed(\"selected\", \"features\")\n",
    "data.show(5)"
   ]
  },
  {
   "cell_type": "markdown",
   "id": "charged-auction",
   "metadata": {},
   "source": [
    "### Split Training/Test Set"
   ]
  },
  {
   "cell_type": "code",
   "execution_count": 28,
   "id": "breathing-length",
   "metadata": {},
   "outputs": [
    {
     "name": "stdout",
     "output_type": "stream",
     "text": [
      "training: 1410211\n",
      "test: 603879\n"
     ]
    }
   ],
   "source": [
    "(training,test) = data.randomSplit([0.7,0.3])\n",
    "\n",
    "print(F'training: {training.count()}')\n",
    "print(F'test: {test.count()}')"
   ]
  },
  {
   "cell_type": "code",
   "execution_count": 29,
   "id": "polish-sydney",
   "metadata": {},
   "outputs": [
    {
     "name": "stdout",
     "output_type": "stream",
     "text": [
      "+-----+------+\n",
      "|label| count|\n",
      "+-----+------+\n",
      "|    1| 32995|\n",
      "|    2|330357|\n",
      "|    3|330082|\n",
      "|    4|347694|\n",
      "|    5|336114|\n",
      "|    6| 32969|\n",
      "+-----+------+\n",
      "\n"
     ]
    }
   ],
   "source": [
    "# ripartizione delle classi - training set\n",
    "training.select(\"label\").groupby(\"label\").count().sort(\"label\").show(10)"
   ]
  },
  {
   "cell_type": "code",
   "execution_count": 30,
   "id": "senior-canada",
   "metadata": {
    "scrolled": true
   },
   "outputs": [
    {
     "name": "stdout",
     "output_type": "stream",
     "text": [
      "+-----+------+\n",
      "|label| count|\n",
      "+-----+------+\n",
      "|    1| 14120|\n",
      "|    2|140876|\n",
      "|    3|141599|\n",
      "|    4|148766|\n",
      "|    5|144302|\n",
      "|    6| 14216|\n",
      "+-----+------+\n",
      "\n"
     ]
    }
   ],
   "source": [
    "# ripartizione delle classi - test set\n",
    "test.select(\"label\").groupby(\"label\").count().sort(\"label\").show(10)"
   ]
  },
  {
   "cell_type": "markdown",
   "id": "regular-employment",
   "metadata": {},
   "source": [
    "### LinearSVCs"
   ]
  },
  {
   "cell_type": "code",
   "execution_count": 31,
   "id": "diagnostic-charm",
   "metadata": {},
   "outputs": [
    {
     "name": "stdout",
     "output_type": "stream",
     "text": [
      "+----------+-----+---------+\n",
      "|  features|label|label_enc|\n",
      "+----------+-----+---------+\n",
      "|(25,[],[])|    1|      5.0|\n",
      "|(25,[],[])|    1|      5.0|\n",
      "|(25,[],[])|    2|      3.0|\n",
      "|(25,[],[])|    2|      3.0|\n",
      "|(25,[],[])|    2|      3.0|\n",
      "+----------+-----+---------+\n",
      "only showing top 5 rows\n",
      "\n"
     ]
    }
   ],
   "source": [
    "training.show(5)"
   ]
  },
  {
   "cell_type": "code",
   "execution_count": 32,
   "id": "white-parliament",
   "metadata": {},
   "outputs": [],
   "source": [
    "svm = LinearSVC( featuresCol='features',\n",
    "                 labelCol='label_enc',\n",
    "                 predictionCol='prediction_enc',\n",
    "                 maxIter=100,\n",
    "                 regParam=0.05)\n",
    "\n",
    "ovr = OneVsRest(labelCol='label_enc',\n",
    "                predictionCol='prediction_enc',\n",
    "                classifier=svm)"
   ]
  },
  {
   "cell_type": "code",
   "execution_count": 33,
   "id": "latter-smile",
   "metadata": {},
   "outputs": [],
   "source": [
    "model = ovr.fit(training)"
   ]
  },
  {
   "cell_type": "code",
   "execution_count": 34,
   "id": "crucial-style",
   "metadata": {},
   "outputs": [
    {
     "name": "stdout",
     "output_type": "stream",
     "text": [
      "ModelLinearSVCModel: uid=LinearSVC_e42cf0f267c8, numClasses=2, numFeatures=25:\n",
      "Weights:[-0.006154483736863086,0.0636724391898451,-0.20571535300220428,-0.00042666171275912917,0.4577245090311635,0.1312524065066752,-0.06193403395544909,0.0139488862114101,0.0046137410728396425,0.30407469816106913,0.02068682211790517,-0.08521062717633077,0.025061735157839115,-0.09614554570834415,-0.007442071844804834,0.0845112689151717,-0.1161292754046503,0.04228329983129796,-0.0022746556353737614,-0.07800070054528986,-0.022258337051310705,-0.07060324510962752,-0.030113802614809042,0.1685416073515886,-0.28447810557382125]\n",
      "Intercept: -1.0013329764649392\n",
      "\n",
      "ModelLinearSVCModel: uid=LinearSVC_e42cf0f267c8, numClasses=2, numFeatures=25:\n",
      "Weights:[0.06750220046858625,-10.185837211557685,-3.6987792020395087,0.7157280662083805,0.6526778855984453,-4.137886078585244,-5.06312627149399,-10.401948210585786,-2.8479421948493457,-74.26979885130821,-0.10831244047799336,-3.4113258585744126,-3.885471620342962,-9.044206080851186,-2.390953514218608,1.6993219578930514,0.1260389729407501,-0.41800340576404993,0.4229171080322334,2.59929460773038,-6.535725403122556,-4.7756489026697,-2.464207057346911,-5.400835564416186,-8.21864462726333]\n",
      "Intercept: 1.0139350626952062\n",
      "\n",
      "ModelLinearSVCModel: uid=LinearSVC_e42cf0f267c8, numClasses=2, numFeatures=25:\n",
      "Weights:[-0.0005371592699848431,-0.0023478427812662233,0.06250571412406714,0.0,0.03630188450577461,-0.029280257672913295,0.0,-0.014090324081918156,0.001049248825409068,0.013387368721726096,-0.10564696424791337,0.01314047820238554,0.006439110707071168,-0.010242015188873054,0.007173936252971021,0.0009241104693600697,0.026034904272816364,-0.0036062459151407216,5.560057956240302e-05,-0.0016439019539454245,-0.0003223372258277773,-0.002460626869493131,-0.0019482409134033163,-0.039741079646988475,0.03421205488943648]\n",
      "Intercept: -1.0002625734660755\n",
      "\n",
      "ModelLinearSVCModel: uid=LinearSVC_e42cf0f267c8, numClasses=2, numFeatures=25:\n",
      "Weights:[0.4110193261200619,6.15256628402065,-2.1157852224652776,-0.7306958295710974,-8.060336636205374,2.7852640597565506,8.210683538717046,5.524126473048354,1.4496085494336306,6.701820905500898,-6.242792313575229,-1.5784759757101336,0.11573565636802498,9.78503618767771,-2.663699619315975,-0.5776702673167404,-1.6030745857700202,-1.2379301151180082,-0.9574765118610092,-1.921313284403,2.8223051213303894,0.568069640819375,1.5914295417105646,4.661671781448472,9.18569838444028]\n",
      "Intercept: -1.8909398529964907\n",
      "\n",
      "ModelLinearSVCModel: uid=LinearSVC_e42cf0f267c8, numClasses=2, numFeatures=25:\n",
      "Weights:[-0.008847254129626064,0.033369747914915655,-0.09302251933707804,0.006467077346393348,0.055623264550939,-0.08295661153602346,-0.06384275967905816,-0.01919854151718521,-0.05290005405925691,-0.5859339671872473,0.07037427726235133,-0.059426181407253434,-0.1018361177508621,-0.13916885919824765,-0.0372875166938952,-0.016906504068995368,-0.07724557390772277,0.04148183111797696,0.009957410972146193,-0.014508138729478478,-0.06573378330604816,-0.03037732668443802,-0.03487534172329503,-0.15889703462472,-0.122930122364259]\n",
      "Intercept: -1.0000041437158977\n",
      "\n",
      "ModelLinearSVCModel: uid=LinearSVC_e42cf0f267c8, numClasses=2, numFeatures=25:\n",
      "Weights:[0.09691475338094326,0.366017267902229,-0.10194716727016115,0.0015277243441097579,0.020880187297202618,0.10649762557359402,0.17601631696211428,-0.049518645100380905,0.10375591658809834,0.39664117529563664,0.2296773673749509,-0.3224879175027748,0.02737550435674901,-0.03357702646347474,-0.14316817604780807,-0.10491394194896655,-0.45438715924239875,-0.08407695340693071,-0.039104812261287224,-0.05272398252129847,-0.07645195042818029,-0.06651249448016436,0.009189053134214399,0.20946843804343082,-0.07095166316506545]\n",
      "Intercept: -1.0728239923933487\n",
      "\n"
     ]
    }
   ],
   "source": [
    "for mod in model.models:\n",
    "    print(f\"Model{mod}:\\nWeights:{mod.coefficients}\\nIntercept: {mod.intercept}\\n\")"
   ]
  },
  {
   "cell_type": "code",
   "execution_count": 35,
   "id": "random-comedy",
   "metadata": {},
   "outputs": [
    {
     "name": "stdout",
     "output_type": "stream",
     "text": [
      "+----------+-----+---------+--------------------+--------------+\n",
      "|  features|label|label_enc|       rawPrediction|prediction_enc|\n",
      "+----------+-----+---------+--------------------+--------------+\n",
      "|(25,[],[])|    2|      3.0|[-1.0013329764649...|           1.0|\n",
      "|(25,[],[])|    2|      3.0|[-1.0013329764649...|           1.0|\n",
      "|(25,[],[])|    2|      3.0|[-1.0013329764649...|           1.0|\n",
      "|(25,[],[])|    2|      3.0|[-1.0013329764649...|           1.0|\n",
      "|(25,[],[])|    2|      3.0|[-1.0013329764649...|           1.0|\n",
      "+----------+-----+---------+--------------------+--------------+\n",
      "only showing top 5 rows\n",
      "\n"
     ]
    }
   ],
   "source": [
    "predictions = model.transform(test)\n",
    "predictions.show(5)"
   ]
  },
  {
   "cell_type": "code",
   "execution_count": 36,
   "id": "rubber-strategy",
   "metadata": {},
   "outputs": [
    {
     "name": "stdout",
     "output_type": "stream",
     "text": [
      "+----------+-----+---------+--------------------+--------------+----------+\n",
      "|  features|label|label_enc|       rawPrediction|prediction_enc|prediction|\n",
      "+----------+-----+---------+--------------------+--------------+----------+\n",
      "|(25,[],[])|    2|      3.0|[-1.0013329764649...|           1.0|         5|\n",
      "|(25,[],[])|    2|      3.0|[-1.0013329764649...|           1.0|         5|\n",
      "|(25,[],[])|    2|      3.0|[-1.0013329764649...|           1.0|         5|\n",
      "|(25,[],[])|    2|      3.0|[-1.0013329764649...|           1.0|         5|\n",
      "|(25,[],[])|    2|      3.0|[-1.0013329764649...|           1.0|         5|\n",
      "+----------+-----+---------+--------------------+--------------+----------+\n",
      "only showing top 5 rows\n",
      "\n"
     ]
    }
   ],
   "source": [
    "inv = IndexToString(inputCol=\"prediction_enc\", outputCol=\"prediction\", labels=model_enc.labels)\n",
    "predictions = inv.transform(predictions)\n",
    "predictions.show(5)"
   ]
  },
  {
   "cell_type": "code",
   "execution_count": 37,
   "id": "rational-sharing",
   "metadata": {},
   "outputs": [
    {
     "name": "stdout",
     "output_type": "stream",
     "text": [
      "+----------+-----+----------+\n",
      "|  features|label|prediction|\n",
      "+----------+-----+----------+\n",
      "|(25,[],[])|    2|       5.0|\n",
      "|(25,[],[])|    2|       5.0|\n",
      "|(25,[],[])|    2|       5.0|\n",
      "|(25,[],[])|    2|       5.0|\n",
      "|(25,[],[])|    2|       5.0|\n",
      "+----------+-----+----------+\n",
      "only showing top 5 rows\n",
      "\n"
     ]
    }
   ],
   "source": [
    "predictions = predictions.select('features','label','prediction')\n",
    "predictions = predictions.withColumn(\"prediction\",col(\"prediction\").cast('double'))\n",
    "predictions.show(5)"
   ]
  },
  {
   "cell_type": "markdown",
   "id": "living-commonwealth",
   "metadata": {},
   "source": [
    "### Evaluation"
   ]
  },
  {
   "cell_type": "code",
   "execution_count": 40,
   "id": "bizarre-julian",
   "metadata": {},
   "outputs": [],
   "source": [
    "import pandas as pd\n",
    "import matplotlib.pyplot as plt\n",
    "import seaborn as sns\n",
    "\n",
    "def print_confusion_matrix(confusion_matrix, class_names, figsize = (10,7), fontsize=14):\n",
    "    \"\"\"Prints a confusion matrix, as returned by sklearn.metrics.confusion_matrix, as a heatmap.\n",
    "    \n",
    "    Note that due to returning the created figure object, when this funciton is called in a\n",
    "    notebook the figure willl be printed twice. To prevent this, either append ; to your\n",
    "    function call, or modify the function by commenting out the return expression.\n",
    "    \n",
    "    Arguments\n",
    "    ---------\n",
    "    confusion_matrix: numpy.ndarray\n",
    "        The numpy.ndarray object returned from a call to sklearn.metrics.confusion_matrix. \n",
    "        Similarly constructed ndarrays can also be used.\n",
    "    class_names: list\n",
    "        An ordered list of class names, in the order they index the given confusion matrix.\n",
    "    figsize: tuple\n",
    "        A 2-long tuple, the first value determining the horizontal size of the ouputted figure,\n",
    "        the second determining the vertical size. Defaults to (10,7).\n",
    "    fontsize: int\n",
    "        Font size for axes labels. Defaults to 14.\n",
    "        \n",
    "    Returns\n",
    "    -------\n",
    "    matplotlib.figure.Figure\n",
    "        The resulting confusion matrix figure\n",
    "    \"\"\"\n",
    "    df_cm = pd.DataFrame(\n",
    "        confusion_matrix, index=class_names, columns=class_names, \n",
    "    )\n",
    "    fig = plt.figure(figsize=figsize)\n",
    "    try:\n",
    "        heatmap = sns.heatmap(df_cm, annot=True, fmt=\"d\",cmap=plt.cm.Blues)\n",
    "    except ValueError:\n",
    "        raise ValueError(\"Confusion matrix values must be integers.\")\n",
    "    heatmap.yaxis.set_ticklabels(heatmap.yaxis.get_ticklabels(), rotation=0, ha='right', fontsize=fontsize)\n",
    "    heatmap.xaxis.set_ticklabels(heatmap.xaxis.get_ticklabels(), rotation=45, ha='right', fontsize=fontsize)\n",
    "    plt.ylabel('True label')\n",
    "    plt.xlabel('Predicted label')\n",
    "    # Note that due to returning the created figure object, when this funciton is called in a notebook\n",
    "    # the figure willl be printed twice. To prevent this, either append ; to your function call, or\n",
    "    # modify the function by commenting out this return expression.\n",
    "    #return fig"
   ]
  },
  {
   "cell_type": "code",
   "execution_count": 38,
   "id": "vocational-quebec",
   "metadata": {},
   "outputs": [],
   "source": [
    "from sklearn.metrics import classification_report, confusion_matrix\n",
    "y_true = predictions.select(['label']).collect()\n",
    "y_pred = predictions.select(['prediction']).collect()"
   ]
  },
  {
   "cell_type": "code",
   "execution_count": 39,
   "id": "accredited-culture",
   "metadata": {},
   "outputs": [
    {
     "name": "stderr",
     "output_type": "stream",
     "text": [
      "/usr/local/lib/python3.8/dist-packages/sklearn/metrics/_classification.py:1245: UndefinedMetricWarning: Precision and F-score are ill-defined and being set to 0.0 in labels with no predicted samples. Use `zero_division` parameter to control this behavior.\n",
      "  _warn_prf(average, modifier, msg_start, len(result))\n"
     ]
    },
    {
     "name": "stdout",
     "output_type": "stream",
     "text": [
      "              precision    recall  f1-score   support\n",
      "\n",
      "           1       0.00      0.00      0.00     14120\n",
      "           2       0.54      0.97      0.69    140876\n",
      "           3       0.50      0.11      0.17    141599\n",
      "           4       0.57      0.19      0.29    148766\n",
      "           5       0.52      0.97      0.67    144302\n",
      "           6       0.00      0.00      0.00     14216\n",
      "\n",
      "    accuracy                           0.53    603879\n",
      "   macro avg       0.35      0.37      0.30    603879\n",
      "weighted avg       0.50      0.53      0.43    603879\n",
      "\n"
     ]
    },
    {
     "name": "stderr",
     "output_type": "stream",
     "text": [
      "/usr/local/lib/python3.8/dist-packages/sklearn/metrics/_classification.py:1245: UndefinedMetricWarning: Precision and F-score are ill-defined and being set to 0.0 in labels with no predicted samples. Use `zero_division` parameter to control this behavior.\n",
      "  _warn_prf(average, modifier, msg_start, len(result))\n",
      "/usr/local/lib/python3.8/dist-packages/sklearn/metrics/_classification.py:1245: UndefinedMetricWarning: Precision and F-score are ill-defined and being set to 0.0 in labels with no predicted samples. Use `zero_division` parameter to control this behavior.\n",
      "  _warn_prf(average, modifier, msg_start, len(result))\n"
     ]
    }
   ],
   "source": [
    "print(classification_report(y_true, y_pred))"
   ]
  },
  {
   "cell_type": "code",
   "execution_count": 41,
   "id": "literary-antarctica",
   "metadata": {},
   "outputs": [
    {
     "data": {
      "image/png": "[encoded data removed]",
      "text/plain": [
       "<Figure size 504x360 with 2 Axes>"
      ]
     },
     "metadata": {
      "needs_background": "light"
     },
     "output_type": "display_data"
    }
   ],
   "source": [
    "cf_matrix = confusion_matrix(y_true, y_pred)\n",
    "print_confusion_matrix(cf_matrix, class_names=['1','2','3','4','5','6'],figsize = (7,5), fontsize=11)"
   ]
  },
  {
   "cell_type": "code",
   "execution_count": null,
   "id": "juvenile-probe",
   "metadata": {},
   "outputs": [],
   "source": []
  }
 ],
 "metadata": {
  "kernelspec": {
   "display_name": "Python 3",
   "language": "python",
   "name": "python3"
  },
  "language_info": {
   "codemirror_mode": {
    "name": "ipython",
    "version": 3
   },
   "file_extension": ".py",
   "mimetype": "text/x-python",
   "name": "python",
   "nbconvert_exporter": "python",
   "pygments_lexer": "ipython3",
   "version": "3.8.10"
  }
 },
 "nbformat": 4,
 "nbformat_minor": 5
}
