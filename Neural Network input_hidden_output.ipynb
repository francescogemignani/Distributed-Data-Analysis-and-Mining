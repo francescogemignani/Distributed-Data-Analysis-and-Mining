{
 "cells": [
  {
   "cell_type": "code",
   "execution_count": 1,
   "id": "hired-virginia",
   "metadata": {},
   "outputs": [],
   "source": [
    "from pyspark.sql import SparkSession\n",
    "\n",
    "spark = SparkSession.builder \\\n",
    "    .master(\"local\") \\\n",
    "    .appName(\"Neural Network with Early Stopping input_hidden_output\") \\\n",
    "    .getOrCreate()"
   ]
  },
  {
   "cell_type": "code",
   "execution_count": 2,
   "id": "comfortable-qatar",
   "metadata": {
    "scrolled": false
   },
   "outputs": [
    {
     "data": {
      "text/plain": [
       "[('groupId', 'string'),\n",
       " ('matchId', 'string'),\n",
       " ('matchDuration', 'int'),\n",
       " ('winPlaceClass', 'int'),\n",
       " ('isFirstPerson', 'boolean'),\n",
       " ('matchtype', 'int'),\n",
       " ('maxPlace', 'int'),\n",
       " ('numGroups', 'int'),\n",
       " ('hasDisconnected', 'int'),\n",
       " ('assist_SUM', 'int'),\n",
       " ('assist_MAX', 'int'),\n",
       " ('assist_AVG', 'int'),\n",
       " ('heals_SUM', 'int'),\n",
       " ('heals_MAX', 'int'),\n",
       " ('heals_AVG', 'int'),\n",
       " ('kills_SUM', 'int'),\n",
       " ('kills_MAX', 'int'),\n",
       " ('kills_AVG', 'int'),\n",
       " ('headshotKills_SUM', 'int'),\n",
       " ('headshotKills_MAX', 'int'),\n",
       " ('headshotKills_AVG', 'int'),\n",
       " ('killStreaks_MAX', 'int'),\n",
       " ('roadKills_SUM', 'int'),\n",
       " ('roadKills_MAX', 'int'),\n",
       " ('roadKills_AVG', 'int'),\n",
       " ('longestKill_MAX', 'double'),\n",
       " ('vehicleDestroys_MAX', 'int'),\n",
       " ('weaponsAcquired_SUM', 'int'),\n",
       " ('weaponsAcquired_MAX', 'int'),\n",
       " ('weaponsAcquired_AVG', 'int'),\n",
       " ('damageDealt_SUM', 'double'),\n",
       " ('damageDealt_MAX', 'double'),\n",
       " ('damageDealt_AVG', 'double'),\n",
       " ('distance_SUM', 'double'),\n",
       " ('distance_MAX', 'double'),\n",
       " ('distance_AVG', 'double'),\n",
       " ('rideDistance_SUM', 'double'),\n",
       " ('rideDistance_MAX', 'double'),\n",
       " ('rideDistance_AVG', 'double'),\n",
       " ('swimDistance_SUM', 'double'),\n",
       " ('swimDistance_MAX', 'double'),\n",
       " ('swimDistance_AVG', 'double'),\n",
       " ('walkDistance_SUM', 'double'),\n",
       " ('walkDistance_MAX', 'double'),\n",
       " ('walkDistance_AVG', 'double'),\n",
       " ('DBNOs_SUM', 'int'),\n",
       " ('DBNOs_MAX', 'int'),\n",
       " ('DBNOs_AVG', 'int'),\n",
       " ('revives_SUM', 'int'),\n",
       " ('revives_MAX', 'int'),\n",
       " ('revives_AVG', 'int'),\n",
       " ('teamKills_SUM', 'int'),\n",
       " ('teamKills_MAX', 'int'),\n",
       " ('teamKills_AVG', 'int'),\n",
       " ('killPlace_MAX', 'int'),\n",
       " ('rankPoints_MAX', 'int'),\n",
       " ('killPoints_MAX', 'int'),\n",
       " ('winPoints_MAX', 'int')]"
      ]
     },
     "execution_count": 2,
     "metadata": {},
     "output_type": "execute_result"
    }
   ],
   "source": [
    "# load the dataset\n",
    "data = spark.read.csv(\"GROUP2.csv.gz\", header=True, sep=',',inferSchema=\"true\")\n",
    "data.dtypes"
   ]
  },
  {
   "cell_type": "code",
   "execution_count": 3,
   "id": "reserved-wings",
   "metadata": {},
   "outputs": [],
   "source": [
    "from pyspark.sql.functions import col\n",
    "\n",
    "data = data.withColumn(\"winPlaceClass\", col(\"winPlaceClass\") -1)"
   ]
  },
  {
   "cell_type": "code",
   "execution_count": null,
   "id": "economic-shame",
   "metadata": {},
   "outputs": [],
   "source": []
  },
  {
   "cell_type": "code",
   "execution_count": 4,
   "id": "fewer-lounge",
   "metadata": {},
   "outputs": [],
   "source": [
    "inputCols =  data.columns\n",
    "\n",
    "toRemove = ['matchId', 'groupId', 'killPlace_MAX', 'rankPoints_MAX', 'killPoints_MAX', 'winPoints_MAX', 'winPlaceClass']\n",
    "inputCols = list(set(inputCols) - set(toRemove))"
   ]
  },
  {
   "cell_type": "code",
   "execution_count": 5,
   "id": "upset-projection",
   "metadata": {
    "scrolled": true
   },
   "outputs": [],
   "source": [
    "from pyspark.ml.linalg import Vectors\n",
    "from pyspark.ml.feature import VectorAssembler\n",
    "\n",
    "assembler = VectorAssembler(\n",
    "    inputCols=inputCols,\n",
    "    outputCol=\"features\")\n",
    "\n",
    "output = assembler.transform(data)"
   ]
  },
  {
   "cell_type": "code",
   "execution_count": 6,
   "id": "convenient-rhythm",
   "metadata": {},
   "outputs": [
    {
     "data": {
      "text/plain": [
       "StandardScalerModel: uid=StandardScaler_2092c508bd87, numFeatures=51, withMean=false, withStd=true"
      ]
     },
     "execution_count": 6,
     "metadata": {},
     "output_type": "execute_result"
    }
   ],
   "source": [
    "from pyspark.ml.feature import StandardScaler\n",
    "\n",
    "\n",
    "ss = StandardScaler()\n",
    "\n",
    "ss.setInputCol(\"features\")\n",
    "\n",
    "model = ss.fit(output)\n",
    "\n",
    "model.setOutputCol(\"features_scaled\")"
   ]
  },
  {
   "cell_type": "code",
   "execution_count": 7,
   "id": "negative-washer",
   "metadata": {},
   "outputs": [],
   "source": [
    "output_scaled = model.transform(output)"
   ]
  },
  {
   "cell_type": "code",
   "execution_count": 8,
   "id": "unsigned-motorcycle",
   "metadata": {},
   "outputs": [
    {
     "name": "stdout",
     "output_type": "stream",
     "text": [
      "training: 423874\n",
      "testing: 181516\n"
     ]
    }
   ],
   "source": [
    "seed = 42\n",
    "withReplacement=False\n",
    "output_sample = output_scaled.sample(withReplacement, .3, seed).withColumnRenamed(\"winPlaceClass\", \"label\").select(\"features_scaled\", \"label\")\n",
    "\n",
    "(training,testing) = output_sample.randomSplit([0.7,0.3])\n",
    "print(F'training: {training.count()}')\n",
    "print(F'testing: {testing.count()}')"
   ]
  },
  {
   "cell_type": "raw",
   "id": "upset-letters",
   "metadata": {},
   "source": [
    "from pyspark.sql.functions import col\n",
    "\n",
    "def oversample(data, label, labelValues, nTimes):\n",
    "    result = data\n",
    "    for i, value in enumerate(labelValues):\n",
    "        toDuplicate=data.where(col(\"label\")==value)\n",
    "        for _ in range(nTimes[i]):\n",
    "            result = result.union(toDuplicate)\n",
    "    return result\n",
    "\n",
    "training_res = oversample(training.where(col(\"matchtype\")==1), \"label\", [1,6], [3,3])\n",
    "training_res = training.withColumnRenamed( \"features_scaled\", \"features\")"
   ]
  },
  {
   "cell_type": "code",
   "execution_count": 9,
   "id": "hungry-ranking",
   "metadata": {},
   "outputs": [],
   "source": [
    "from pyspark.ml.classification import MultilayerPerceptronClassifier\n",
    "from pyspark.ml.evaluation import MulticlassClassificationEvaluator"
   ]
  },
  {
   "cell_type": "code",
   "execution_count": null,
   "id": "renewable-drinking",
   "metadata": {},
   "outputs": [],
   "source": []
  },
  {
   "cell_type": "code",
   "execution_count": 10,
   "id": "enclosed-bachelor",
   "metadata": {},
   "outputs": [],
   "source": [
    "from pyspark.mllib.evaluation import MulticlassMetrics\n",
    "import pandas as pd\n",
    "\n",
    "def customEarlyStoppingNN(blockSize = 128, layers = [], training = None, iterazioni = 10, optimizerIt=5, es = 5):\n",
    "    (training,validation) = output_sample.randomSplit([0.8,0.2])\n",
    "    evaluator = MulticlassClassificationEvaluator(metricName=\"accuracy\")\n",
    "\n",
    "    \n",
    "    loss_train = []\n",
    "    loss_val = []\n",
    "    acc_train = []\n",
    "    acc_val = []\n",
    "    models = []\n",
    "    best_model = 0;\n",
    "    \n",
    "    es_count = 0\n",
    "\n",
    "    for i in range(iterazioni):\n",
    "        \n",
    "        trainer = MultilayerPerceptronClassifier(maxIter=optimizerIt, layers=layers, blockSize=blockSize, seed=42)\n",
    "\n",
    "        if len(models) != 0:\n",
    "            trainer = trainer.setInitialWeights(models[-1].weights)\n",
    "        \n",
    "        model = trainer.fit(training.withColumnRenamed( \"features_scaled\", \"features\"))\n",
    "        \n",
    "        models.append(model)\n",
    "        \n",
    "        trainStat = model.summary()\n",
    "        \n",
    "        result = model.transform(validation.withColumnRenamed( \"features_scaled\", \"features\"))\n",
    "        \n",
    "        evaluator = MulticlassClassificationEvaluator(predictionCol=\"prediction\", probabilityCol=\"probability\")\n",
    "\n",
    "        evaluator.setMetricName('logLoss')\n",
    "        logLoss = evaluator.evaluate(result)\n",
    "        evaluator.setMetricName('accuracy')\n",
    "        accuracy = evaluator.evaluate(result)\n",
    "        \n",
    "        print(F'Epoch {i+1}*{optimizerIt}: loss: {trainStat.objectiveHistory[0]}, acc: {trainStat.accuracy}, val_loss: {logLoss}, val_acc: {accuracy}')\n",
    "        \n",
    "        \n",
    "        if len(loss_val) != 0:\n",
    "            if loss_val[best_model] < logLoss:\n",
    "                es_count = es_count +1\n",
    "            else:\n",
    "                es_count = 0\n",
    "                best_model = len(models)-1\n",
    "            \n",
    "        if es_count == es:\n",
    "            print(\"Early Stopping\")\n",
    "            break\n",
    "        \n",
    "        loss_train.append(trainStat.objectiveHistory[0])\n",
    "        acc_train.append(trainStat.accuracy)\n",
    "        loss_val.append(logLoss)\n",
    "        acc_val.append(accuracy)\n",
    "    \n",
    "    df = pd.DataFrame()\n",
    "    \n",
    "    df[\"loss_train\"] = loss_train\n",
    "    df[\"acc_train\"] = acc_train\n",
    "    df[\"loss_val\"] = loss_val\n",
    "    df[\"acc_val\"] = acc_val\n",
    "    \n",
    "    \n",
    "    return (df, models[best_model])"
   ]
  },
  {
   "cell_type": "code",
   "execution_count": 11,
   "id": "genuine-advice",
   "metadata": {
    "scrolled": false
   },
   "outputs": [
    {
     "name": "stdout",
     "output_type": "stream",
     "text": [
      "Epoch 1*5: loss: 2.1310879900813453, acc: 0.525382115231334, val_loss: 1.148857592176527, val_acc: 0.5256291696941674\n",
      "Epoch 2*5: loss: 1.1471953683455536, acc: 0.6036202346586051, val_loss: 0.9972380277485554, val_acc: 0.6027148424598718\n",
      "Epoch 3*5: loss: 0.9950463345726446, acc: 0.6455445012988408, val_loss: 0.9301961857215846, val_acc: 0.6443292159323601\n",
      "Epoch 4*5: loss: 0.9290002083720893, acc: 0.6600588917935566, val_loss: 0.8980394202669821, val_acc: 0.6580933350947883\n",
      "Epoch 5*5: loss: 0.8962795496649729, acc: 0.6726136640524657, val_loss: 0.8519097955221567, val_acc: 0.6705611334962679\n",
      "Epoch 6*5: loss: 0.8504771172072406, acc: 0.6771916130817422, val_loss: 0.8243998298136443, val_acc: 0.675630821058194\n",
      "Epoch 7*5: loss: 0.8228007019577834, acc: 0.6909750184811203, val_loss: 0.7685334600414022, val_acc: 0.6890976946958187\n",
      "Epoch 8*5: loss: 0.767109333161949, acc: 0.6923172227522209, val_loss: 0.7485431206088382, val_acc: 0.6910545610674417\n",
      "Epoch 9*5: loss: 0.7468785814300671, acc: 0.6985244012736486, val_loss: 0.7310996788398639, val_acc: 0.6983783605257943\n",
      "Epoch 10*5: loss: 0.7294100588084641, acc: 0.6999781117457329, val_loss: 0.7185578963421742, val_acc: 0.6994600039632737\n",
      "Epoch 11*5: loss: 0.7167347421285605, acc: 0.7010663296701481, val_loss: 0.7149896694426415, val_acc: 0.7002939427967502\n",
      "Epoch 12*5: loss: 0.7128923238074643, acc: 0.7036185827148869, val_loss: 0.7108704205335667, val_acc: 0.7032994253253187\n",
      "Epoch 13*5: loss: 0.7090644072679024, acc: 0.7047047357096544, val_loss: 0.703632661671769, val_acc: 0.7040920800581281\n",
      "Epoch 14*5: loss: 0.7011346085651622, acc: 0.7075130400307261, val_loss: 0.6987430177347383, val_acc: 0.7071636171477641\n",
      "Epoch 15*5: loss: 0.6966831241696521, acc: 0.7120373008891587, val_loss: 0.6854768026544391, val_acc: 0.7112755135742123\n",
      "Epoch 16*5: loss: 0.6827144429052664, acc: 0.7144677230846745, val_loss: 0.6773786927864804, val_acc: 0.7142314551819803\n",
      "Epoch 17*5: loss: 0.674874386321215, acc: 0.7148332156323434, val_loss: 0.6759220356255325, val_acc: 0.7140498051390448\n",
      "Epoch 18*5: loss: 0.6734550670015622, acc: 0.7156467979135951, val_loss: 0.6745433085846341, val_acc: 0.7152305304181253\n",
      "Epoch 19*5: loss: 0.6722387306679461, acc: 0.7159833814461941, val_loss: 0.6733916518051669, val_acc: 0.7152553008785256\n",
      "Epoch 20*5: loss: 0.6710284083351193, acc: 0.7164892892099166, val_loss: 0.6722598752952191, val_acc: 0.7158497919281326\n",
      "Epoch 21*5: loss: 0.669845448600506, acc: 0.7166358992149138, val_loss: 0.6717511254312354, val_acc: 0.7158663055683995\n",
      "Epoch 22*5: loss: 0.6693053032675249, acc: 0.7169415088027951, val_loss: 0.6708563952532174, val_acc: 0.7165598784596077\n",
      "Epoch 23*5: loss: 0.6684857210325268, acc: 0.717267767687155, val_loss: 0.6698402140717625, val_acc: 0.7164442829777397\n",
      "Epoch 24*5: loss: 0.667414789537152, acc: 0.7175011047373616, val_loss: 0.6690419768333905, val_acc: 0.7171956536098818\n",
      "Epoch 25*5: loss: 0.6665916025271562, acc: 0.7175981564308104, val_loss: 0.6685061069181529, val_acc: 0.71704703084748\n",
      "Epoch 26*5: loss: 0.6660359928237863, acc: 0.7183601154708659, val_loss: 0.6671975108419338, val_acc: 0.717814915119889\n",
      "Epoch 27*5: loss: 0.6647757178245376, acc: 0.7185769330838898, val_loss: 0.6663667049909038, val_acc: 0.7182029856661603\n",
      "Epoch 28*5: loss: 0.6639716058974907, acc: 0.7188969971793061, val_loss: 0.665865356942287, val_acc: 0.7184259198097629\n",
      "Epoch 29*5: loss: 0.6634904656696671, acc: 0.7186884392848736, val_loss: 0.6652081363257624, val_acc: 0.7184176629896294\n",
      "Epoch 30*5: loss: 0.6627801794275463, acc: 0.719357476490776, val_loss: 0.6643529385064947, val_acc: 0.7189048153775018\n",
      "Epoch 31*5: loss: 0.661910543330421, acc: 0.7193678011390152, val_loss: 0.6636604089538465, val_acc: 0.7189543562983024\n",
      "Epoch 32*5: loss: 0.6612807872929787, acc: 0.7197787221389367, val_loss: 0.6632173746580466, val_acc: 0.7193919677653742\n",
      "Epoch 33*5: loss: 0.6608145263022573, acc: 0.7194400736766898, val_loss: 0.6627112231761891, val_acc: 0.7193093995640399\n",
      "Epoch 34*5: loss: 0.6602915631751624, acc: 0.7202392014504065, val_loss: 0.6619817422318891, val_acc: 0.7199534315344475\n",
      "Epoch 35*5: loss: 0.6595516915419639, acc: 0.7203032142694898, val_loss: 0.6610184454282025, val_acc: 0.7200855406565824\n",
      "Epoch 36*5: loss: 0.6586303614702811, acc: 0.7208380310482821, val_loss: 0.6603037704509297, val_acc: 0.720539665763921\n",
      "Epoch 37*5: loss: 0.6578328882214964, acc: 0.7210878875356717, val_loss: 0.6595237857472755, val_acc: 0.7206965453464562\n",
      "Epoch 38*5: loss: 0.6571867615351948, acc: 0.7212035235959511, val_loss: 0.6592161491745975, val_acc: 0.721134156813528\n",
      "Epoch 39*5: loss: 0.656785110233399, acc: 0.7211766795105291, val_loss: 0.6588811394960263, val_acc: 0.7208121408283242\n",
      "Epoch 40*5: loss: 0.656483846397148, acc: 0.7213811075456659, val_loss: 0.6586179974092656, val_acc: 0.7212910363960632\n",
      "Epoch 41*5: loss: 0.6561861518764364, acc: 0.7213542634602439, val_loss: 0.6582978636035486, val_acc: 0.7209690204108594\n",
      "Epoch 42*5: loss: 0.6558981972072303, acc: 0.7215256526210152, val_loss: 0.6580435984271664, val_acc: 0.7213818614175309\n",
      "Epoch 43*5: loss: 0.655612030037669, acc: 0.7215256526210152, val_loss: 0.6577309090472804, val_acc: 0.7212662659356629\n",
      "Epoch 44*5: loss: 0.6553308895319315, acc: 0.7217156261486171, val_loss: 0.6574826326271467, val_acc: 0.7216460796618006\n",
      "Epoch 45*5: loss: 0.6550518829763807, acc: 0.7217527948822784, val_loss: 0.6571768688830685, val_acc: 0.7214231455181981\n",
      "Epoch 46*5: loss: 0.6547768294365907, acc: 0.7218333271385444, val_loss: 0.656934420969981, val_acc: 0.7216956205826013\n",
      "Epoch 47*5: loss: 0.6545041825293557, acc: 0.7219758072842458, val_loss: 0.6566359661092235, val_acc: 0.7215139705396658\n",
      "Epoch 48*5: loss: 0.654235240408192, acc: 0.7220026513696678, val_loss: 0.6563997463812524, val_acc: 0.7219268115463373\n",
      "Epoch 49*5: loss: 0.6539689822159106, acc: 0.7221182874299472, val_loss: 0.6561091896337976, val_acc: 0.7216295660215338\n",
      "Epoch 50*5: loss: 0.6537065038598068, acc: 0.7228079739323281, val_loss: 0.6551685100807079, val_acc: 0.7225625866966114\n",
      "Epoch 51*5: loss: 0.6527015334587759, acc: 0.7226489743494439, val_loss: 0.6542975373561382, val_acc: 0.7221745161503402\n",
      "Epoch 52*5: loss: 0.6518631417555985, acc: 0.7228534023845807, val_loss: 0.6540563067666875, val_acc: 0.7225956139771451\n",
      "Epoch 53*5: loss: 0.6515977395107105, acc: 0.7230392460528869, val_loss: 0.6533161845347089, val_acc: 0.7229176299623489\n",
      "Epoch 54*5: loss: 0.6509518457172989, acc: 0.7231858560578841, val_loss: 0.6529692150825482, val_acc: 0.722958914063016\n",
      "Epoch 55*5: loss: 0.6504838760264293, acc: 0.7245032811732104, val_loss: 0.6496269980028234, val_acc: 0.7243130325648987\n",
      "Epoch 56*5: loss: 0.6472490551713956, acc: 0.7244516579320143, val_loss: 0.6493317422514614, val_acc: 0.7240405575004955\n",
      "Epoch 57*5: loss: 0.6467809088995332, acc: 0.7248625789319358, val_loss: 0.6486535458934949, val_acc: 0.7244451416870334\n",
      "Epoch 58*5: loss: 0.6462097093117263, acc: 0.724926591751019, val_loss: 0.6484946148013254, val_acc: 0.7245607371689015\n",
      "Epoch 59*5: loss: 0.6459842205805708, acc: 0.724670540474686, val_loss: 0.6480631010115919, val_acc: 0.7242717484642315\n",
      "Epoch 60*5: loss: 0.6455475271021098, acc: 0.7251599288012257, val_loss: 0.6477193764001732, val_acc: 0.7248414690534382\n",
      "Epoch 61*5: loss: 0.6452116126229064, acc: 0.7258103816402975, val_loss: 0.6447422596092471, val_acc: 0.7252543100601097\n",
      "Epoch 62*5: loss: 0.6421133721143816, acc: 0.7260189395347301, val_loss: 0.6444661927828015, val_acc: 0.7255020146641126\n",
      "Epoch 63*5: loss: 0.6418815822966579, acc: 0.7264216008160602, val_loss: 0.6437055972656006, val_acc: 0.7264680626197239\n",
      "Epoch 64*5: loss: 0.6411943216328678, acc: 0.726221302640219, val_loss: 0.6434540370688638, val_acc: 0.725799260188916\n",
      "Epoch 65*5: loss: 0.6408370152787223, acc: 0.7264525747607778, val_loss: 0.6429442161318745, val_acc: 0.7267818217847942\n",
      "Epoch 66*5: loss: 0.6404355552355775, acc: 0.7264133410974688, val_loss: 0.6428005112856052, val_acc: 0.7262864125767884\n",
      "Epoch 67*5: loss: 0.6402131683247684, acc: 0.726869690549643, val_loss: 0.6422951246311221, val_acc: 0.7267818217847942\n",
      "Epoch 68*5: loss: 0.6397169744688525, acc: 0.7267251454742937, val_loss: 0.6419045507017463, val_acc: 0.7268065922451945\n",
      "Epoch 69*5: loss: 0.6393272586837546, acc: 0.7269564175948525, val_loss: 0.641324695158467, val_acc: 0.7267157672237268\n"
     ]
    },
    {
     "name": "stdout",
     "output_type": "stream",
     "text": [
      "Epoch 70*5: loss: 0.6386906306473061, acc: 0.7268717554792908, val_loss: 0.6410047568492447, val_acc: 0.7269387013673294\n",
      "Epoch 71*5: loss: 0.6384069904745219, acc: 0.7271360664742152, val_loss: 0.640696557616862, val_acc: 0.7273432855538675\n",
      "Epoch 72*5: loss: 0.638109402695299, acc: 0.7271133522480889, val_loss: 0.6404299145344429, val_acc: 0.7271698923310654\n",
      "Epoch 73*5: loss: 0.6378231536753195, acc: 0.7272269233787205, val_loss: 0.6401323073632237, val_acc: 0.7274836514961358\n",
      "Epoch 74*5: loss: 0.6375645946812193, acc: 0.727193884504355, val_loss: 0.6399785558326962, val_acc: 0.7272607173525332\n",
      "Epoch 75*5: loss: 0.6373740050149049, acc: 0.7278794411474401, val_loss: 0.6393436174429854, val_acc: 0.7281607107470771\n",
      "Epoch 76*5: loss: 0.6367665598635143, acc: 0.7275222083183626, val_loss: 0.6389129917524607, val_acc: 0.7275992469780038\n",
      "Epoch 77*5: loss: 0.6363136927737656, acc: 0.7279000904439186, val_loss: 0.6383590851261501, val_acc: 0.7278386947618734\n",
      "Epoch 78*5: loss: 0.6357032865950799, acc: 0.7277369610017387, val_loss: 0.6380719079945584, val_acc: 0.7278882356826739\n",
      "Epoch 79*5: loss: 0.6354387999711482, acc: 0.7280446355192679, val_loss: 0.6377995932324112, val_acc: 0.7281772243873439\n",
      "Epoch 80*5: loss: 0.6351734802442774, acc: 0.7278587918509616, val_loss: 0.637604058100584, val_acc: 0.7279542902437414\n",
      "Epoch 81*5: loss: 0.6349563772959458, acc: 0.728244933695109, val_loss: 0.6373150038380386, val_acc: 0.7284166721712134\n",
      "Epoch 82*5: loss: 0.6346994513033647, acc: 0.7279930122780717, val_loss: 0.6371261226908153, val_acc: 0.7281359402866768\n",
      "Epoch 83*5: loss: 0.6344662169506499, acc: 0.7284534915895415, val_loss: 0.6368388440654432, val_acc: 0.7286230926745492\n",
      "Epoch 84*5: loss: 0.6342279795200357, acc: 0.7281396222830688, val_loss: 0.6367031413808042, val_acc: 0.7281689675672105\n",
      "Epoch 85*5: loss: 0.6340390930149237, acc: 0.7288127893482669, val_loss: 0.6362260296785986, val_acc: 0.7290359336812207\n",
      "Epoch 86*5: loss: 0.6336016858449726, acc: 0.7284018683483454, val_loss: 0.6358905708867796, val_acc: 0.7283753880705462\n",
      "Epoch 87*5: loss: 0.6331998488147671, acc: 0.7287322570920008, val_loss: 0.6356421992343895, val_acc: 0.7290524473214876\n",
      "Epoch 88*5: loss: 0.6330102287807119, acc: 0.728542283564399, val_loss: 0.6354924246389995, val_acc: 0.728581808573882\n",
      "Epoch 89*5: loss: 0.6327916867952948, acc: 0.7287942049814363, val_loss: 0.6352673020354979, val_acc: 0.729118501882555\n",
      "Epoch 90*5: loss: 0.6326213931599715, acc: 0.7286806338508047, val_loss: 0.6351696054724788, val_acc: 0.728656119955083\n",
      "Epoch 91*5: loss: 0.6324632993606701, acc: 0.728947009775377, val_loss: 0.6349236913612109, val_acc: 0.7291680428033556\n",
      "Epoch 92*5: loss: 0.6322683799667611, acc: 0.7287384518809444, val_loss: 0.6348485905308824, val_acc: 0.7286891472356166\n",
      "Epoch 93*5: loss: 0.6321381034452621, acc: 0.7291638273884009, val_loss: 0.6345896402739238, val_acc: 0.7293166655657574\n",
      "Epoch 94*5: loss: 0.6319310565952725, acc: 0.7288850618859416, val_loss: 0.6344877340009021, val_acc: 0.7288542836382852\n",
      "Epoch 95*5: loss: 0.6317734786499214, acc: 0.72920306105171, val_loss: 0.6342979906129824, val_acc: 0.7293909769469582\n",
      "Epoch 96*5: loss: 0.6316324521241988, acc: 0.7289717889311511, val_loss: 0.6341286042829325, val_acc: 0.7289863927604201\n",
      "Epoch 97*5: loss: 0.6314160385721456, acc: 0.7294033592275511, val_loss: 0.6339407408645175, val_acc: 0.7295065724288262\n",
      "Epoch 98*5: loss: 0.6312587480308556, acc: 0.7291452430215702, val_loss: 0.6338380249758184, val_acc: 0.7290111632208204\n",
      "Epoch 99*5: loss: 0.6311161022325725, acc: 0.72947150190593, val_loss: 0.6336679929847054, val_acc: 0.7296056542704273\n",
      "Epoch 100*5: loss: 0.6309885851129738, acc: 0.7292959828858631, val_loss: 0.6334784171972114, val_acc: 0.7292753814650902\n",
      "CPU times: user 3.07 s, sys: 964 ms, total: 4.04 s\n",
      "Wall time: 3h 48min 56s\n"
     ]
    }
   ],
   "source": [
    "%%time\n",
    "df_risultati, model = customEarlyStoppingNN(blockSize = 200, layers = [51, 80, 6], training = training, iterazioni = 100, optimizerIt=5, es = 5)"
   ]
  },
  {
   "cell_type": "code",
   "execution_count": 12,
   "id": "determined-engineer",
   "metadata": {},
   "outputs": [
    {
     "data": {
      "text/html": [
       "<div>\n",
       "<style scoped>\n",
       "    .dataframe tbody tr th:only-of-type {\n",
       "        vertical-align: middle;\n",
       "    }\n",
       "\n",
       "    .dataframe tbody tr th {\n",
       "        vertical-align: top;\n",
       "    }\n",
       "\n",
       "    .dataframe thead th {\n",
       "        text-align: right;\n",
       "    }\n",
       "</style>\n",
       "<table border=\"1\" class=\"dataframe\">\n",
       "  <thead>\n",
       "    <tr style=\"text-align: right;\">\n",
       "      <th></th>\n",
       "      <th>loss_train</th>\n",
       "      <th>acc_train</th>\n",
       "      <th>loss_val</th>\n",
       "      <th>acc_val</th>\n",
       "    </tr>\n",
       "  </thead>\n",
       "  <tbody>\n",
       "    <tr>\n",
       "      <th>0</th>\n",
       "      <td>2.131088</td>\n",
       "      <td>0.525382</td>\n",
       "      <td>1.148858</td>\n",
       "      <td>0.525629</td>\n",
       "    </tr>\n",
       "    <tr>\n",
       "      <th>1</th>\n",
       "      <td>1.147195</td>\n",
       "      <td>0.603620</td>\n",
       "      <td>0.997238</td>\n",
       "      <td>0.602715</td>\n",
       "    </tr>\n",
       "    <tr>\n",
       "      <th>2</th>\n",
       "      <td>0.995046</td>\n",
       "      <td>0.645545</td>\n",
       "      <td>0.930196</td>\n",
       "      <td>0.644329</td>\n",
       "    </tr>\n",
       "    <tr>\n",
       "      <th>3</th>\n",
       "      <td>0.929000</td>\n",
       "      <td>0.660059</td>\n",
       "      <td>0.898039</td>\n",
       "      <td>0.658093</td>\n",
       "    </tr>\n",
       "    <tr>\n",
       "      <th>4</th>\n",
       "      <td>0.896280</td>\n",
       "      <td>0.672614</td>\n",
       "      <td>0.851910</td>\n",
       "      <td>0.670561</td>\n",
       "    </tr>\n",
       "    <tr>\n",
       "      <th>...</th>\n",
       "      <td>...</td>\n",
       "      <td>...</td>\n",
       "      <td>...</td>\n",
       "      <td>...</td>\n",
       "    </tr>\n",
       "    <tr>\n",
       "      <th>95</th>\n",
       "      <td>0.631632</td>\n",
       "      <td>0.728972</td>\n",
       "      <td>0.634129</td>\n",
       "      <td>0.728986</td>\n",
       "    </tr>\n",
       "    <tr>\n",
       "      <th>96</th>\n",
       "      <td>0.631416</td>\n",
       "      <td>0.729403</td>\n",
       "      <td>0.633941</td>\n",
       "      <td>0.729507</td>\n",
       "    </tr>\n",
       "    <tr>\n",
       "      <th>97</th>\n",
       "      <td>0.631259</td>\n",
       "      <td>0.729145</td>\n",
       "      <td>0.633838</td>\n",
       "      <td>0.729011</td>\n",
       "    </tr>\n",
       "    <tr>\n",
       "      <th>98</th>\n",
       "      <td>0.631116</td>\n",
       "      <td>0.729472</td>\n",
       "      <td>0.633668</td>\n",
       "      <td>0.729606</td>\n",
       "    </tr>\n",
       "    <tr>\n",
       "      <th>99</th>\n",
       "      <td>0.630989</td>\n",
       "      <td>0.729296</td>\n",
       "      <td>0.633478</td>\n",
       "      <td>0.729275</td>\n",
       "    </tr>\n",
       "  </tbody>\n",
       "</table>\n",
       "<p>100 rows × 4 columns</p>\n",
       "</div>"
      ],
      "text/plain": [
       "    loss_train  acc_train  loss_val   acc_val\n",
       "0     2.131088   0.525382  1.148858  0.525629\n",
       "1     1.147195   0.603620  0.997238  0.602715\n",
       "2     0.995046   0.645545  0.930196  0.644329\n",
       "3     0.929000   0.660059  0.898039  0.658093\n",
       "4     0.896280   0.672614  0.851910  0.670561\n",
       "..         ...        ...       ...       ...\n",
       "95    0.631632   0.728972  0.634129  0.728986\n",
       "96    0.631416   0.729403  0.633941  0.729507\n",
       "97    0.631259   0.729145  0.633838  0.729011\n",
       "98    0.631116   0.729472  0.633668  0.729606\n",
       "99    0.630989   0.729296  0.633478  0.729275\n",
       "\n",
       "[100 rows x 4 columns]"
      ]
     },
     "execution_count": 12,
     "metadata": {},
     "output_type": "execute_result"
    }
   ],
   "source": [
    "df_risultati"
   ]
  },
  {
   "cell_type": "code",
   "execution_count": 13,
   "id": "abstract-publisher",
   "metadata": {},
   "outputs": [
    {
     "data": {
      "image/png": "[encoded data removed]",
      "text/plain": [
       "<Figure size 432x288 with 1 Axes>"
      ]
     },
     "metadata": {
      "needs_background": "light"
     },
     "output_type": "display_data"
    },
    {
     "data": {
      "image/png": "[encoded data removed]",
      "text/plain": [
       "<Figure size 432x288 with 1 Axes>"
      ]
     },
     "metadata": {
      "needs_background": "light"
     },
     "output_type": "display_data"
    }
   ],
   "source": [
    "import matplotlib.pyplot as plt\n",
    "\n",
    "df = pd.DataFrame()\n",
    "\n",
    "plt.plot(df_risultati[\"acc_train\"], label=\"Training set\")\n",
    "plt.plot(df_risultati[\"acc_val\"], label=\"Validation set\")\n",
    "plt.ylabel(\"Accuracy\")\n",
    "plt.xlabel(\"Epoch\")\n",
    "plt.legend()\n",
    "plt.savefig(\"Accuracy_NN_iho.pdf\")\n",
    "plt.show()\n",
    "\n",
    "\n",
    "plt.plot(df_risultati[\"loss_train\"], label=\"Training set\")\n",
    "plt.plot(df_risultati[\"loss_val\"], label=\"Validation set\")\n",
    "plt.ylabel(\"Loss\")\n",
    "plt.xlabel(\"Epoch\")\n",
    "plt.legend()\n",
    "plt.savefig(\"Loss_NN_iho.pdf\")\n",
    "plt.show()"
   ]
  },
  {
   "cell_type": "code",
   "execution_count": 14,
   "id": "musical-texas",
   "metadata": {},
   "outputs": [
    {
     "name": "stdout",
     "output_type": "stream",
     "text": [
      "+--------------------+-----+--------------------+--------------------+----------+\n",
      "|            features|label|       rawPrediction|         probability|prediction|\n",
      "+--------------------+-----+--------------------+--------------------+----------+\n",
      "|(51,[0,1,2,3,4,5,...|    3|[-3.8736742636669...|[1.32907026629850...|       3.0|\n",
      "|(51,[0,1,2,3,4,5,...|    2|[-0.5816709684313...|[0.00278547909384...|       2.0|\n",
      "|(51,[0,1,2,3,4,5,...|    1|[2.01134938348078...|[0.02792014900689...|       2.0|\n",
      "|(51,[0,1,2,3,4,5,...|    3|[-5.2967314594102...|[3.91910006001723...|       3.0|\n",
      "|(51,[0,1,2,3,4,5,...|    3|[-2.7300989527499...|[5.84981447819364...|       2.0|\n",
      "|(51,[0,1,2,3,4,5,...|    2|[-3.0225372025532...|[3.70721255512686...|       3.0|\n",
      "|(51,[0,1,2,3,4,5,...|    4|[-6.2311631374506...|[5.58732338339217...|       4.0|\n",
      "|(51,[0,1,2,3,4,5,...|    3|[-2.6915636675462...|[8.15185028565463...|       3.0|\n",
      "|(51,[0,1,2,3,4,5,...|    2|[-1.1374728483402...|[0.00255654720240...|       2.0|\n",
      "|(51,[0,1,2,3,4,5,...|    3|[-3.9076886616440...|[1.71370727360285...|       3.0|\n",
      "|(51,[0,1,2,3,4,5,...|    2|[-2.8365262161738...|[3.12329418995116...|       2.0|\n",
      "|(51,[0,1,2,3,4,5,...|    1|[3.79450585024733...|[0.00453010892654...|       1.0|\n",
      "|(51,[0,1,2,3,4,5,...|    3|[-2.1574233956537...|[3.68288393700074...|       2.0|\n",
      "|(51,[0,1,2,3,4,5,...|    1|[3.74935868761281...|[0.00797475096191...|       1.0|\n",
      "|(51,[0,1,2,3,4,5,...|    2|[-2.8902446231562...|[2.42127276518634...|       2.0|\n",
      "|(51,[0,1,2,3,4,5,...|    3|[-1.6359701731563...|[0.00195162432999...|       2.0|\n",
      "|(51,[0,1,2,3,4,5,...|    2|[-1.1664304533858...|[0.00247631001783...|       2.0|\n",
      "|(51,[0,1,2,3,4,5,...|    1|[-1.3144605620393...|[0.00392608309110...|       2.0|\n",
      "|(51,[0,1,2,3,4,5,...|    1|[-0.3662016410167...|[0.00372866502299...|       2.0|\n",
      "|(51,[0,1,2,3,4,5,...|    3|[-1.2324587001987...|[0.00224642347023...|       2.0|\n",
      "+--------------------+-----+--------------------+--------------------+----------+\n",
      "only showing top 20 rows\n",
      "\n"
     ]
    }
   ],
   "source": [
    "predictions = model.transform(testing.withColumnRenamed( \"features_scaled\", \"features\"))\n",
    "predictions.show()"
   ]
  },
  {
   "cell_type": "code",
   "execution_count": 15,
   "id": "utility-marathon",
   "metadata": {},
   "outputs": [
    {
     "data": {
      "image/png": "[encoded data removed]",
      "text/plain": [
       "<Figure size 432x288 with 1 Axes>"
      ]
     },
     "metadata": {
      "needs_background": "light"
     },
     "output_type": "display_data"
    }
   ],
   "source": [
    "cross_tab = predictions.crosstab('prediction', 'label').toPandas().sort_values(by=[\"prediction_label\"]).set_index('prediction_label')\n",
    "cross_tab.plot.bar(stacked=True)\n",
    "\n",
    "plt.ylabel(\"Num of record\")\n",
    "plt.xlabel(\"Predicted label\")\n",
    "plt.legend(title=\"True label\")\n",
    "\n",
    "plt.savefig(\"confMatrixGraph_NN_iho.pdf\")"
   ]
  },
  {
   "cell_type": "code",
   "execution_count": 16,
   "id": "fancy-looking",
   "metadata": {},
   "outputs": [],
   "source": [
    "model.write().overwrite().save(\"NN.input_hidden_output\")"
   ]
  },
  {
   "cell_type": "markdown",
   "id": "transparent-jacksonville",
   "metadata": {},
   "source": [
    "## Evaluation"
   ]
  },
  {
   "cell_type": "code",
   "execution_count": 17,
   "id": "later-savings",
   "metadata": {},
   "outputs": [],
   "source": [
    "from pyspark.mllib.evaluation import MulticlassMetrics\n",
    "\n",
    "predictionAndLabels = predictions.rdd.map(lambda x: (x.prediction, float(x.label)))\n",
    "metrics = MulticlassMetrics(predictionAndLabels)"
   ]
  },
  {
   "cell_type": "code",
   "execution_count": 18,
   "id": "informal-carpet",
   "metadata": {},
   "outputs": [
    {
     "name": "stdout",
     "output_type": "stream",
     "text": [
      "Recall = 0.7291588620286917\n",
      "Precision = 0.7257618226567158\n",
      "F1 measure = 0.7244813335464642\n",
      "Accuracy = 0.7291588620286917\n",
      "Class 0.0 precision = 0.6336580086580087\n",
      "Class 0.0 recall = 0.2763095799905616\n",
      "Class 0.0 F1 Measure = 0.3848176141965166\n",
      "Class 1.0 precision = 0.7494962021392032\n",
      "Class 1.0 recall = 0.7947634143477751\n",
      "Class 1.0 F1 Measure = 0.7714663445100408\n",
      "Class 2.0 precision = 0.6687183463784622\n",
      "Class 2.0 recall = 0.647443868333998\n",
      "Class 2.0 F1 Measure = 0.6579091667660031\n",
      "Class 3.0 precision = 0.7108460896814482\n",
      "Class 3.0 recall = 0.7051706400679877\n",
      "Class 3.0 F1 Measure = 0.707996991164352\n",
      "Class 4.0 precision = 0.7861878928786704\n",
      "Class 4.0 recall = 0.8458794644925186\n",
      "Class 4.0 F1 Measure = 0.8149420926963158\n",
      "Class 5.0 precision = 0.6944558521560575\n",
      "Class 5.0 recall = 0.40435198469631756\n",
      "Class 5.0 F1 Measure = 0.5111077527580475\n",
      "Confusion Matrix\n",
      "[[1.1710e+03 2.9460e+03 8.6000e+01 1.3000e+01 2.2000e+01 0.0000e+00]\n",
      " [6.6300e+02 3.3845e+04 7.7870e+03 2.6900e+02 2.0000e+01 1.0000e+00]\n",
      " [1.4000e+01 8.2490e+03 2.7596e+04 6.6200e+03 1.3300e+02 1.1000e+01]\n",
      " [0.0000e+00 1.1600e+02 5.7630e+03 3.1531e+04 7.2840e+03 2.0000e+01]\n",
      " [0.0000e+00 0.0000e+00 3.0000e+01 5.9120e+03 3.6520e+04 7.1200e+02]\n",
      " [0.0000e+00 1.0000e+00 5.0000e+00 1.2000e+01 2.4730e+03 1.6910e+03]]\n"
     ]
    }
   ],
   "source": [
    "# Summary stats\n",
    "print(\"Recall = %s\" % (metrics.weightedRecall))\n",
    "print(\"Precision = %s\" % metrics.weightedPrecision)\n",
    "print(\"F1 measure = %s\" % metrics.weightedFMeasure())\n",
    "print(\"Accuracy = %s\" % metrics.accuracy)\n",
    "\n",
    "# Individual label stats\n",
    "labels = [0.0, 1.0 ,2.0, 3.0, 4.0, 5.0]\n",
    "for label in labels:\n",
    "    print(\"Class %s precision = %s\" % (label, metrics.precision(label)))\n",
    "    print(\"Class %s recall = %s\" % (label, metrics.recall(label)))\n",
    "    print(\"Class %s F1 Measure = %s\" % (label, metrics.fMeasure(label)))\n",
    "    \n",
    "print('Confusion Matrix')\n",
    "print(metrics.confusionMatrix().toArray())"
   ]
  },
  {
   "cell_type": "code",
   "execution_count": null,
   "id": "selective-manual",
   "metadata": {},
   "outputs": [],
   "source": []
  },
  {
   "cell_type": "code",
   "execution_count": null,
   "id": "amazing-sphere",
   "metadata": {},
   "outputs": [],
   "source": []
  },
  {
   "cell_type": "markdown",
   "id": "casual-louisiana",
   "metadata": {},
   "source": [
    "## Sklearn metrics"
   ]
  },
  {
   "cell_type": "code",
   "execution_count": 21,
   "id": "mechanical-trader",
   "metadata": {},
   "outputs": [],
   "source": [
    "y_true = predictions.select(['label']).collect()\n",
    "y_pred = predictions.select(['prediction']).collect()"
   ]
  },
  {
   "cell_type": "code",
   "execution_count": 22,
   "id": "athletic-contents",
   "metadata": {},
   "outputs": [],
   "source": [
    "from sklearn.metrics import classification_report, confusion_matrix"
   ]
  },
  {
   "cell_type": "code",
   "execution_count": 23,
   "id": "median-context",
   "metadata": {},
   "outputs": [
    {
     "name": "stdout",
     "output_type": "stream",
     "text": [
      "              precision    recall  f1-score   support\n",
      "\n",
      "           0       0.63      0.28      0.38      4238\n",
      "           1       0.75      0.79      0.77     42585\n",
      "           2       0.67      0.65      0.66     42623\n",
      "           3       0.71      0.71      0.71     44714\n",
      "           4       0.79      0.85      0.81     43174\n",
      "           5       0.69      0.40      0.51      4182\n",
      "\n",
      "    accuracy                           0.73    181516\n",
      "   macro avg       0.71      0.61      0.64    181516\n",
      "weighted avg       0.73      0.73      0.72    181516\n",
      "\n"
     ]
    }
   ],
   "source": [
    "print(classification_report(y_true, y_pred))"
   ]
  },
  {
   "cell_type": "code",
   "execution_count": 24,
   "id": "latin-pride",
   "metadata": {},
   "outputs": [
    {
     "name": "stdout",
     "output_type": "stream",
     "text": [
      "[[ 1171  2946    86    13    22     0]\n",
      " [  663 33845  7787   269    20     1]\n",
      " [   14  8249 27596  6620   133    11]\n",
      " [    0   116  5763 31531  7284    20]\n",
      " [    0     0    30  5912 36520   712]\n",
      " [    0     1     5    12  2473  1691]]\n"
     ]
    }
   ],
   "source": [
    "print(confusion_matrix(y_true, y_pred))"
   ]
  },
  {
   "cell_type": "code",
   "execution_count": null,
   "id": "coral-singer",
   "metadata": {},
   "outputs": [],
   "source": []
  },
  {
   "cell_type": "code",
   "execution_count": null,
   "id": "incomplete-wallpaper",
   "metadata": {},
   "outputs": [],
   "source": []
  },
  {
   "cell_type": "code",
   "execution_count": null,
   "id": "lined-dietary",
   "metadata": {},
   "outputs": [],
   "source": []
  },
  {
   "cell_type": "code",
   "execution_count": null,
   "id": "resident-chair",
   "metadata": {},
   "outputs": [],
   "source": []
  }
 ],
 "metadata": {
  "kernelspec": {
   "display_name": "Python 3",
   "language": "python",
   "name": "python3"
  },
  "language_info": {
   "codemirror_mode": {
    "name": "ipython",
    "version": 3
   },
   "file_extension": ".py",
   "mimetype": "text/x-python",
   "name": "python",
   "nbconvert_exporter": "python",
   "pygments_lexer": "ipython3",
   "version": "3.8.10"
  }
 },
 "nbformat": 4,
 "nbformat_minor": 5
}
