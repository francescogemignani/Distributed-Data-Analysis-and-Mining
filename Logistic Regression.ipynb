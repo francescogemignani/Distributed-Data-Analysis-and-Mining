{
 "cells": [
  {
   "cell_type": "markdown",
   "id": "exclusive-shareware",
   "metadata": {},
   "source": [
    "# Multiclass Logistic Regression\n",
    "- Importo il dataset\n",
    "- Elimino attributi categorici e non necessari\n",
    "- Assemblo le features\n",
    "- Normalizzo i dati\n",
    "- Univariate Feature Reduction\n",
    "- Sampling (solo per il tuning dei parametri)\n",
    "- Split Training/Test set\n",
    "- Fitting & Prediction del/i modello/i\n",
    "- Evaluation"
   ]
  },
  {
   "cell_type": "code",
   "execution_count": 116,
   "id": "vulnerable-charleston",
   "metadata": {},
   "outputs": [],
   "source": [
    "import pandas as pd\n",
    "import numpy as np\n",
    "\n",
    "from pyspark.sql import SparkSession\n",
    "from pyspark.ml.linalg import Vectors\n",
    "from pyspark.ml.feature import VectorAssembler, MinMaxScaler, StringIndexer, IndexToString\n",
    "from pyspark.ml.feature import PCA, UnivariateFeatureSelector\n",
    "from pyspark.ml.classification import LogisticRegression, OneVsRest\n",
    "from pyspark.ml.evaluation import MulticlassClassificationEvaluator\n",
    "from pyspark.sql.functions import *"
   ]
  },
  {
   "cell_type": "code",
   "execution_count": 117,
   "id": "animated-corner",
   "metadata": {},
   "outputs": [],
   "source": [
    "spark = SparkSession.builder \\\n",
    "    .master(\"local\") \\\n",
    "    .appName(\"Multiclass LogisticRegression\") \\\n",
    "    .getOrCreate()"
   ]
  },
  {
   "cell_type": "markdown",
   "id": "indian-honduras",
   "metadata": {},
   "source": [
    "### Importo il dataset"
   ]
  },
  {
   "cell_type": "code",
   "execution_count": 118,
   "id": "excess-management",
   "metadata": {},
   "outputs": [],
   "source": [
    "data = spark.read.csv(\"GROUP2.csv.gz\", header=True, sep=',',inferSchema=\"true\")\n",
    "data = data.withColumnRenamed('winPlaceClass', 'label')"
   ]
  },
  {
   "cell_type": "code",
   "execution_count": 119,
   "id": "average-proportion",
   "metadata": {},
   "outputs": [
    {
     "name": "stdout",
     "output_type": "stream",
     "text": [
      "root\n",
      " |-- groupId: string (nullable = true)\n",
      " |-- matchId: string (nullable = true)\n",
      " |-- matchDuration: integer (nullable = true)\n",
      " |-- label: integer (nullable = true)\n",
      " |-- isFirstPerson: boolean (nullable = true)\n",
      " |-- matchtype: integer (nullable = true)\n",
      " |-- maxPlace: integer (nullable = true)\n",
      " |-- numGroups: integer (nullable = true)\n",
      " |-- hasDisconnected: integer (nullable = true)\n",
      " |-- assist_SUM: integer (nullable = true)\n",
      " |-- assist_MAX: integer (nullable = true)\n",
      " |-- assist_AVG: integer (nullable = true)\n",
      " |-- heals_SUM: integer (nullable = true)\n",
      " |-- heals_MAX: integer (nullable = true)\n",
      " |-- heals_AVG: integer (nullable = true)\n",
      " |-- kills_SUM: integer (nullable = true)\n",
      " |-- kills_MAX: integer (nullable = true)\n",
      " |-- kills_AVG: integer (nullable = true)\n",
      " |-- headshotKills_SUM: integer (nullable = true)\n",
      " |-- headshotKills_MAX: integer (nullable = true)\n",
      " |-- headshotKills_AVG: integer (nullable = true)\n",
      " |-- killStreaks_MAX: integer (nullable = true)\n",
      " |-- roadKills_SUM: integer (nullable = true)\n",
      " |-- roadKills_MAX: integer (nullable = true)\n",
      " |-- roadKills_AVG: integer (nullable = true)\n",
      " |-- longestKill_MAX: double (nullable = true)\n",
      " |-- vehicleDestroys_MAX: integer (nullable = true)\n",
      " |-- weaponsAcquired_SUM: integer (nullable = true)\n",
      " |-- weaponsAcquired_MAX: integer (nullable = true)\n",
      " |-- weaponsAcquired_AVG: integer (nullable = true)\n",
      " |-- damageDealt_SUM: double (nullable = true)\n",
      " |-- damageDealt_MAX: double (nullable = true)\n",
      " |-- damageDealt_AVG: double (nullable = true)\n",
      " |-- distance_SUM: double (nullable = true)\n",
      " |-- distance_MAX: double (nullable = true)\n",
      " |-- distance_AVG: double (nullable = true)\n",
      " |-- rideDistance_SUM: double (nullable = true)\n",
      " |-- rideDistance_MAX: double (nullable = true)\n",
      " |-- rideDistance_AVG: double (nullable = true)\n",
      " |-- swimDistance_SUM: double (nullable = true)\n",
      " |-- swimDistance_MAX: double (nullable = true)\n",
      " |-- swimDistance_AVG: double (nullable = true)\n",
      " |-- walkDistance_SUM: double (nullable = true)\n",
      " |-- walkDistance_MAX: double (nullable = true)\n",
      " |-- walkDistance_AVG: double (nullable = true)\n",
      " |-- DBNOs_SUM: integer (nullable = true)\n",
      " |-- DBNOs_MAX: integer (nullable = true)\n",
      " |-- DBNOs_AVG: integer (nullable = true)\n",
      " |-- revives_SUM: integer (nullable = true)\n",
      " |-- revives_MAX: integer (nullable = true)\n",
      " |-- revives_AVG: integer (nullable = true)\n",
      " |-- teamKills_SUM: integer (nullable = true)\n",
      " |-- teamKills_MAX: integer (nullable = true)\n",
      " |-- teamKills_AVG: integer (nullable = true)\n",
      " |-- killPlace_MAX: integer (nullable = true)\n",
      " |-- rankPoints_MAX: integer (nullable = true)\n",
      " |-- killPoints_MAX: integer (nullable = true)\n",
      " |-- winPoints_MAX: integer (nullable = true)\n",
      "\n"
     ]
    }
   ],
   "source": [
    "data.printSchema()"
   ]
  },
  {
   "cell_type": "code",
   "execution_count": 120,
   "id": "systematic-starter",
   "metadata": {},
   "outputs": [],
   "source": [
    "# Elimino gli attributi non necessari\n",
    "inputCols =  data.columns\n",
    "toRemove = ['matchId', 'groupId', 'killPlace_MAX', 'rankPoints_MAX', 'killPoints_MAX', 'winPoints_MAX', 'label','isFirstPerson']\n",
    "inputCols = list(set(inputCols) - set(toRemove))"
   ]
  },
  {
   "cell_type": "markdown",
   "id": "assured-operator",
   "metadata": {},
   "source": [
    "#### Assemblo le features"
   ]
  },
  {
   "cell_type": "code",
   "execution_count": 121,
   "id": "maritime-minimum",
   "metadata": {},
   "outputs": [],
   "source": [
    "assemble = VectorAssembler(inputCols = inputCols, outputCol = 'features')\n",
    "data = assemble.transform(data)"
   ]
  },
  {
   "cell_type": "code",
   "execution_count": 122,
   "id": "casual-union",
   "metadata": {},
   "outputs": [
    {
     "name": "stdout",
     "output_type": "stream",
     "text": [
      "+--------------------+-----+\n",
      "|            features|label|\n",
      "+--------------------+-----+\n",
      "|(50,[1,2,3,4,6,7,...|    4|\n",
      "|(50,[1,2,4,6,9,10...|    4|\n",
      "|(50,[1,2,6,7,9,11...|    4|\n",
      "|(50,[1,2,4,5,6,9,...|    2|\n",
      "|(50,[2,4,6,7,9,10...|    4|\n",
      "+--------------------+-----+\n",
      "only showing top 5 rows\n",
      "\n"
     ]
    }
   ],
   "source": [
    "data.select(\"features\",\"label\").show(5)"
   ]
  },
  {
   "cell_type": "markdown",
   "id": "worst-botswana",
   "metadata": {},
   "source": [
    "#### Normalizzo i dati"
   ]
  },
  {
   "cell_type": "code",
   "execution_count": 123,
   "id": "accepting-supervisor",
   "metadata": {},
   "outputs": [],
   "source": [
    "scaler = MinMaxScaler(inputCol='features',outputCol=\"scaled\")\n",
    "data = scaler.fit(data).transform(data)"
   ]
  },
  {
   "cell_type": "code",
   "execution_count": 124,
   "id": "answering-telephone",
   "metadata": {},
   "outputs": [
    {
     "name": "stdout",
     "output_type": "stream",
     "text": [
      "+--------------------+-----+\n",
      "|              scaled|label|\n",
      "+--------------------+-----+\n",
      "|(50,[1,2,3,4,6,7,...|    4|\n",
      "|(50,[1,2,4,6,9,10...|    4|\n",
      "|(50,[1,2,6,7,9,11...|    4|\n",
      "|(50,[1,2,4,5,6,9,...|    2|\n",
      "|(50,[2,4,6,7,9,10...|    4|\n",
      "+--------------------+-----+\n",
      "only showing top 5 rows\n",
      "\n"
     ]
    }
   ],
   "source": [
    "data.select(\"scaled\",\"label\").show(5)"
   ]
  },
  {
   "cell_type": "markdown",
   "id": "typical-spice",
   "metadata": {},
   "source": [
    "#### Univariate Feature Selector"
   ]
  },
  {
   "cell_type": "code",
   "execution_count": 125,
   "id": "heard-developer",
   "metadata": {},
   "outputs": [],
   "source": [
    "selector = UnivariateFeatureSelector(featuresCol='scaled',labelCol='label',outputCol='selected')\n",
    "selector.setFeatureType(\"continuous\").setLabelType(\"categorical\").setSelectionThreshold(30)\n",
    "data = selector.fit(data).transform(data)"
   ]
  },
  {
   "cell_type": "code",
   "execution_count": 126,
   "id": "based-difficulty",
   "metadata": {},
   "outputs": [
    {
     "name": "stdout",
     "output_type": "stream",
     "text": [
      "+--------------------+-----+\n",
      "|            selected|label|\n",
      "+--------------------+-----+\n",
      "|(30,[1,2,3,4,6,7,...|    4|\n",
      "|(30,[1,2,4,6,9,10...|    4|\n",
      "|(30,[1,2,6,7,9,11...|    4|\n",
      "|(30,[1,2,4,5,6,9,...|    2|\n",
      "|(30,[2,4,6,7,9,10...|    4|\n",
      "+--------------------+-----+\n",
      "only showing top 5 rows\n",
      "\n"
     ]
    }
   ],
   "source": [
    "data.select(\"selected\",\"label\").show(5)"
   ]
  },
  {
   "cell_type": "markdown",
   "id": "banned-debate",
   "metadata": {},
   "source": [
    "#### Sampling"
   ]
  },
  {
   "cell_type": "code",
   "execution_count": 127,
   "id": "loose-delay",
   "metadata": {},
   "outputs": [],
   "source": [
    "data = data.sample(withReplacement=False, fraction=1.0, seed=42)"
   ]
  },
  {
   "cell_type": "code",
   "execution_count": 128,
   "id": "serious-detector",
   "metadata": {},
   "outputs": [
    {
     "name": "stdout",
     "output_type": "stream",
     "text": [
      "+--------------------+-----+\n",
      "|            features|label|\n",
      "+--------------------+-----+\n",
      "|(30,[1,2,3,4,6,7,...|    4|\n",
      "|(30,[1,2,4,6,9,10...|    4|\n",
      "|(30,[1,2,6,7,9,11...|    4|\n",
      "|(30,[1,2,4,5,6,9,...|    2|\n",
      "|(30,[2,4,6,7,9,10...|    4|\n",
      "+--------------------+-----+\n",
      "only showing top 5 rows\n",
      "\n"
     ]
    }
   ],
   "source": [
    "data = data.select(\"selected\",\"label\")\n",
    "data = data.withColumnRenamed(\"selected\", \"features\")\n",
    "data.show(5)"
   ]
  },
  {
   "cell_type": "markdown",
   "id": "charged-auction",
   "metadata": {},
   "source": [
    "### Split Training/Test Set"
   ]
  },
  {
   "cell_type": "code",
   "execution_count": 129,
   "id": "breathing-length",
   "metadata": {},
   "outputs": [
    {
     "name": "stdout",
     "output_type": "stream",
     "text": [
      "training: 1409618\n",
      "test: 604472\n"
     ]
    }
   ],
   "source": [
    "(training,test) = data.randomSplit([0.7,0.3])\n",
    "\n",
    "print(F'training: {training.count()}')\n",
    "print(F'test: {test.count()}')"
   ]
  },
  {
   "cell_type": "code",
   "execution_count": 130,
   "id": "polish-sydney",
   "metadata": {},
   "outputs": [
    {
     "name": "stdout",
     "output_type": "stream",
     "text": [
      "+-----+------+\n",
      "|label| count|\n",
      "+-----+------+\n",
      "|    1| 33046|\n",
      "|    2|329656|\n",
      "|    3|330066|\n",
      "|    4|347536|\n",
      "|    5|336449|\n",
      "|    6| 32865|\n",
      "+-----+------+\n",
      "\n"
     ]
    }
   ],
   "source": [
    "# ripartizione delle classi - training set\n",
    "training.select(\"label\").groupby(\"label\").count().sort(\"label\").show(10)"
   ]
  },
  {
   "cell_type": "code",
   "execution_count": 131,
   "id": "senior-canada",
   "metadata": {
    "scrolled": true
   },
   "outputs": [
    {
     "name": "stdout",
     "output_type": "stream",
     "text": [
      "+-----+------+\n",
      "|label| count|\n",
      "+-----+------+\n",
      "|    1| 14069|\n",
      "|    2|141577|\n",
      "|    3|141615|\n",
      "|    4|148924|\n",
      "|    5|143967|\n",
      "|    6| 14320|\n",
      "+-----+------+\n",
      "\n"
     ]
    }
   ],
   "source": [
    "# ripartizione delle classi - test set\n",
    "test.select(\"label\").groupby(\"label\").count().sort(\"label\").show(10)"
   ]
  },
  {
   "cell_type": "markdown",
   "id": "regular-employment",
   "metadata": {},
   "source": [
    "### Logistic Regression"
   ]
  },
  {
   "cell_type": "code",
   "execution_count": 132,
   "id": "massive-proposal",
   "metadata": {},
   "outputs": [
    {
     "name": "stdout",
     "output_type": "stream",
     "text": [
      "+--------------------+-----+\n",
      "|            features|label|\n",
      "+--------------------+-----+\n",
      "|(30,[0,1,2,3,4,5,...|    2|\n",
      "|(30,[0,1,2,3,4,5,...|    4|\n",
      "|(30,[0,1,2,3,4,5,...|    2|\n",
      "|(30,[0,1,2,3,4,5,...|    3|\n",
      "|(30,[0,1,2,3,4,5,...|    3|\n",
      "+--------------------+-----+\n",
      "only showing top 5 rows\n",
      "\n"
     ]
    }
   ],
   "source": [
    "training.show(5)"
   ]
  },
  {
   "cell_type": "code",
   "execution_count": 133,
   "id": "white-parliament",
   "metadata": {},
   "outputs": [],
   "source": [
    "lr = LogisticRegression(maxIter=10, regParam=0.01)"
   ]
  },
  {
   "cell_type": "code",
   "execution_count": 134,
   "id": "latter-smile",
   "metadata": {},
   "outputs": [],
   "source": [
    "model = lr.fit(training)"
   ]
  },
  {
   "cell_type": "code",
   "execution_count": 135,
   "id": "random-comedy",
   "metadata": {},
   "outputs": [
    {
     "name": "stdout",
     "output_type": "stream",
     "text": [
      "+--------------------+-----+--------------------+--------------------+----------+\n",
      "|            features|label|       rawPrediction|         probability|prediction|\n",
      "+--------------------+-----+--------------------+--------------------+----------+\n",
      "|(30,[0,1,2,3,4,5,...|    3|[-10.243566259117...|[9.13075371333174...|       3.0|\n",
      "|(30,[0,1,2,3,4,5,...|    5|[-10.243549654428...|[1.50241070398571...|       4.0|\n",
      "|(30,[0,1,2,3,4,5,...|    4|[-10.243563253951...|[3.02525598821033...|       4.0|\n",
      "|(30,[0,1,2,3,4,5,...|    4|[-10.243527927692...|[2.73149942080765...|       4.0|\n",
      "|(30,[0,1,2,3,4,5,...|    3|[-10.243616343416...|[1.22533976975040...|       3.0|\n",
      "+--------------------+-----+--------------------+--------------------+----------+\n",
      "only showing top 5 rows\n",
      "\n"
     ]
    }
   ],
   "source": [
    "predictions = model.transform(test)\n",
    "predictions.show(5)"
   ]
  },
  {
   "cell_type": "code",
   "execution_count": 136,
   "id": "efficient-hayes",
   "metadata": {},
   "outputs": [],
   "source": [
    "#predictions = predictions.withColumn(\"pred\",col(\"pred\").cast('double'))"
   ]
  },
  {
   "cell_type": "markdown",
   "id": "living-commonwealth",
   "metadata": {},
   "source": [
    "### Evaluation"
   ]
  },
  {
   "cell_type": "code",
   "execution_count": 137,
   "id": "vocational-quebec",
   "metadata": {},
   "outputs": [],
   "source": [
    "from sklearn.metrics import classification_report, confusion_matrix\n",
    "y_true = predictions.select(['label']).collect()\n",
    "y_pred = predictions.select(['prediction']).collect()"
   ]
  },
  {
   "cell_type": "code",
   "execution_count": 138,
   "id": "perfect-worth",
   "metadata": {},
   "outputs": [],
   "source": [
    "class_report = classification_report(y_true, y_pred)"
   ]
  },
  {
   "cell_type": "code",
   "execution_count": 139,
   "id": "literary-antarctica",
   "metadata": {},
   "outputs": [
    {
     "name": "stdout",
     "output_type": "stream",
     "text": [
      "              precision    recall  f1-score   support\n",
      "\n",
      "           1       0.36      0.13      0.19     14069\n",
      "           2       0.69      0.75      0.72    141577\n",
      "           3       0.57      0.51      0.54    141615\n",
      "           4       0.59      0.63      0.61    148924\n",
      "           5       0.70      0.78      0.74    143967\n",
      "           6       0.00      0.00      0.00     14320\n",
      "\n",
      "    accuracy                           0.64    604472\n",
      "   macro avg       0.49      0.47      0.47    604472\n",
      "weighted avg       0.62      0.64      0.63    604472\n",
      "\n"
     ]
    }
   ],
   "source": [
    "print(class_report)"
   ]
  },
  {
   "cell_type": "code",
   "execution_count": 142,
   "id": "yellow-pulse",
   "metadata": {},
   "outputs": [
    {
     "data": {
      "image/png": "[encoded data removed]",
      "text/plain": [
       "<Figure size 432x288 with 2 Axes>"
      ]
     },
     "metadata": {
      "needs_background": "light"
     },
     "output_type": "display_data"
    }
   ],
   "source": [
    "# Compilare la funzione al termine del file prima\n",
    "plot_classification_report(rep)"
   ]
  },
  {
   "cell_type": "code",
   "execution_count": 143,
   "id": "spectacular-reality",
   "metadata": {},
   "outputs": [],
   "source": [
    "cf_matrix = confusion_matrix(y_true, y_pred)"
   ]
  },
  {
   "cell_type": "code",
   "execution_count": 144,
   "id": "processed-condition",
   "metadata": {},
   "outputs": [
    {
     "name": "stdout",
     "output_type": "stream",
     "text": [
      "[[  1854  11617    493    105      0      0]\n",
      " [  2351 106661  30612   1822    131      0]\n",
      " [   821  34567  71706  32633   1887      1]\n",
      " [   145   1872  21721  93988  31193      5]\n",
      " [     7     27    439  31063 112431      0]\n",
      " [     0      0     52    206  14062      0]]\n"
     ]
    }
   ],
   "source": [
    "print(cf_matrix)"
   ]
  },
  {
   "cell_type": "code",
   "execution_count": 145,
   "id": "stupid-small",
   "metadata": {},
   "outputs": [
    {
     "data": {
      "image/png": "[encoded data removed]",
      "text/plain": [
       "<Figure size 504x360 with 2 Axes>"
      ]
     },
     "metadata": {
      "needs_background": "light"
     },
     "output_type": "display_data"
    }
   ],
   "source": [
    "print_confusion_matrix(cf_matrix,class_names,figsize = (7,5), fontsize=11)"
   ]
  },
  {
   "cell_type": "code",
   "execution_count": 140,
   "id": "cheap-highway",
   "metadata": {},
   "outputs": [],
   "source": [
    "import matplotlib.pyplot as plt\n",
    "import numpy as np\n",
    "import itertools\n",
    "\n",
    "\n",
    "def plot_classification_report(classificationReport,\n",
    "                               title='Classification report',\n",
    "                               cmap='RdBu'):\n",
    "\n",
    "    classificationReport = classificationReport.replace('\\n\\n', '\\n')\n",
    "    classificationReport = classificationReport.replace(' / ', '/')\n",
    "    lines = classificationReport.split('\\n')\n",
    "\n",
    "    classes, plotMat, support, class_names = [], [], [], []\n",
    "    for line in lines[1:]:  # if you don't want avg/total result, then change [1:] into [1:-1]\n",
    "        t = line.strip().split()\n",
    "        if len(t) < 2:\n",
    "            continue\n",
    "        classes.append(t[0])\n",
    "        v = [float(x) for x in t[1: len(t) - 1]]\n",
    "        support.append(int(t[-1]))\n",
    "        class_names.append(t[0])\n",
    "        plotMat.append(v)\n",
    "\n",
    "    plotMat = np.array(plotMat)\n",
    "    xticklabels = ['Precision', 'Recall', 'F1-score']\n",
    "    yticklabels = ['{0} ({1})'.format(class_names[idx], sup)\n",
    "                   for idx, sup in enumerate(support)]\n",
    "\n",
    "    plt.imshow(plotMat, interpolation='nearest', cmap=cmap, aspect='auto')\n",
    "    plt.title(title)\n",
    "    plt.colorbar()\n",
    "    plt.xticks(np.arange(3), xticklabels, rotation=45)\n",
    "    plt.yticks(np.arange(len(classes)), yticklabels)\n",
    "\n",
    "    upper_thresh = plotMat.min() + (plotMat.max() - plotMat.min()) / 10 * 8\n",
    "    lower_thresh = plotMat.min() + (plotMat.max() - plotMat.min()) / 10 * 2\n",
    "    for i, j in itertools.product(range(plotMat.shape[0]), range(plotMat.shape[1])):\n",
    "        plt.text(j, i, format(plotMat[i, j], '.2f'),\n",
    "                 horizontalalignment=\"center\",\n",
    "                 color=\"white\" if (plotMat[i, j] > upper_thresh or plotMat[i, j] < lower_thresh) else \"black\")\n",
    "\n",
    "    plt.ylabel('Metrics')\n",
    "    plt.xlabel('Classes')\n",
    "    #plt.tight_layout()"
   ]
  },
  {
   "cell_type": "code",
   "execution_count": 141,
   "id": "chinese-filename",
   "metadata": {},
   "outputs": [],
   "source": [
    "import pandas as pd\n",
    "import matplotlib.pyplot as plt\n",
    "import seaborn as sns\n",
    "\n",
    "def print_confusion_matrix(confusion_matrix, class_names, figsize = (10,7), fontsize=14):\n",
    "    \"\"\"Prints a confusion matrix, as returned by sklearn.metrics.confusion_matrix, as a heatmap.\n",
    "    \n",
    "    Note that due to returning the created figure object, when this funciton is called in a\n",
    "    notebook the figure willl be printed twice. To prevent this, either append ; to your\n",
    "    function call, or modify the function by commenting out the return expression.\n",
    "    \n",
    "    Arguments\n",
    "    ---------\n",
    "    confusion_matrix: numpy.ndarray\n",
    "        The numpy.ndarray object returned from a call to sklearn.metrics.confusion_matrix. \n",
    "        Similarly constructed ndarrays can also be used.\n",
    "    class_names: list\n",
    "        An ordered list of class names, in the order they index the given confusion matrix.\n",
    "    figsize: tuple\n",
    "        A 2-long tuple, the first value determining the horizontal size of the ouputted figure,\n",
    "        the second determining the vertical size. Defaults to (10,7).\n",
    "    fontsize: int\n",
    "        Font size for axes labels. Defaults to 14.\n",
    "        \n",
    "    Returns\n",
    "    -------\n",
    "    matplotlib.figure.Figure\n",
    "        The resulting confusion matrix figure\n",
    "    \"\"\"\n",
    "    df_cm = pd.DataFrame(\n",
    "        confusion_matrix, index=class_names, columns=class_names, \n",
    "    )\n",
    "    fig = plt.figure(figsize=figsize)\n",
    "    try:\n",
    "        heatmap = sns.heatmap(df_cm, annot=True, fmt=\"d\",cmap=plt.cm.Blues)\n",
    "    except ValueError:\n",
    "        raise ValueError(\"Confusion matrix values must be integers.\")\n",
    "    heatmap.yaxis.set_ticklabels(heatmap.yaxis.get_ticklabels(), rotation=0, ha='right', fontsize=fontsize)\n",
    "    heatmap.xaxis.set_ticklabels(heatmap.xaxis.get_ticklabels(), rotation=45, ha='right', fontsize=fontsize)\n",
    "    plt.ylabel('True label')\n",
    "    plt.xlabel('Predicted label')\n",
    "    # Note that due to returning the created figure object, when this funciton is called in a notebook\n",
    "    # the figure willl be printed twice. To prevent this, either append ; to your function call, or\n",
    "    # modify the function by commenting out this return expression.\n",
    "    #return fig"
   ]
  },
  {
   "cell_type": "code",
   "execution_count": null,
   "id": "victorian-labor",
   "metadata": {},
   "outputs": [],
   "source": []
  }
 ],
 "metadata": {
  "kernelspec": {
   "display_name": "Python 3",
   "language": "python",
   "name": "python3"
  },
  "language_info": {
   "codemirror_mode": {
    "name": "ipython",
    "version": 3
   },
   "file_extension": ".py",
   "mimetype": "text/x-python",
   "name": "python",
   "nbconvert_exporter": "python",
   "pygments_lexer": "ipython3",
   "version": "3.8.10"
  }
 },
 "nbformat": 4,
 "nbformat_minor": 5
}
