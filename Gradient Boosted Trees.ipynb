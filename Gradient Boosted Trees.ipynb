{
 "cells": [
  {
   "cell_type": "code",
   "execution_count": 1,
   "id": "vulnerable-charleston",
   "metadata": {},
   "outputs": [],
   "source": [
    "import pandas as pd\n",
    "import numpy as np\n",
    "import seaborn as sns\n",
    "import matplotlib.pyplot as plt\n",
    "\n",
    "from pyspark.sql import SparkSession\n",
    "from pyspark.ml.tuning import CrossValidator, ParamGridBuilder\n",
    "from pyspark.ml.classification import GBTClassifier, OneVsRest\n",
    "from pyspark.ml.evaluation import MulticlassClassificationEvaluator\n",
    "from pyspark.mllib.evaluation import MulticlassMetrics\n",
    "from pyspark.sql.functions import col\n",
    "\n",
    "spark = SparkSession.builder \\\n",
    "    .master(\"local\") \\\n",
    "    .appName(\"GradientBoostedTrees\") \\\n",
    "    .getOrCreate()"
   ]
  },
  {
   "cell_type": "code",
   "execution_count": 2,
   "id": "excess-management",
   "metadata": {},
   "outputs": [
    {
     "data": {
      "text/plain": [
       "[('groupId', 'string'),\n",
       " ('matchId', 'string'),\n",
       " ('matchDuration', 'int'),\n",
       " ('label', 'int'),\n",
       " ('isFirstPerson', 'boolean'),\n",
       " ('matchtype', 'int'),\n",
       " ('maxPlace', 'int'),\n",
       " ('numGroups', 'int'),\n",
       " ('hasDisconnected', 'int'),\n",
       " ('assist_SUM', 'int'),\n",
       " ('assist_MAX', 'int'),\n",
       " ('assist_AVG', 'int'),\n",
       " ('heals_SUM', 'int'),\n",
       " ('heals_MAX', 'int'),\n",
       " ('heals_AVG', 'int'),\n",
       " ('kills_SUM', 'int'),\n",
       " ('kills_MAX', 'int'),\n",
       " ('kills_AVG', 'int'),\n",
       " ('headshotKills_SUM', 'int'),\n",
       " ('headshotKills_MAX', 'int'),\n",
       " ('headshotKills_AVG', 'int'),\n",
       " ('killStreaks_MAX', 'int'),\n",
       " ('roadKills_SUM', 'int'),\n",
       " ('roadKills_MAX', 'int'),\n",
       " ('roadKills_AVG', 'int'),\n",
       " ('longestKill_MAX', 'double'),\n",
       " ('vehicleDestroys_MAX', 'int'),\n",
       " ('weaponsAcquired_SUM', 'int'),\n",
       " ('weaponsAcquired_MAX', 'int'),\n",
       " ('weaponsAcquired_AVG', 'int'),\n",
       " ('damageDealt_SUM', 'double'),\n",
       " ('damageDealt_MAX', 'double'),\n",
       " ('damageDealt_AVG', 'double'),\n",
       " ('distance_SUM', 'double'),\n",
       " ('distance_MAX', 'double'),\n",
       " ('distance_AVG', 'double'),\n",
       " ('rideDistance_SUM', 'double'),\n",
       " ('rideDistance_MAX', 'double'),\n",
       " ('rideDistance_AVG', 'double'),\n",
       " ('swimDistance_SUM', 'double'),\n",
       " ('swimDistance_MAX', 'double'),\n",
       " ('swimDistance_AVG', 'double'),\n",
       " ('walkDistance_SUM', 'double'),\n",
       " ('walkDistance_MAX', 'double'),\n",
       " ('walkDistance_AVG', 'double'),\n",
       " ('DBNOs_SUM', 'int'),\n",
       " ('DBNOs_MAX', 'int'),\n",
       " ('DBNOs_AVG', 'int'),\n",
       " ('revives_SUM', 'int'),\n",
       " ('revives_MAX', 'int'),\n",
       " ('revives_AVG', 'int'),\n",
       " ('teamKills_SUM', 'int'),\n",
       " ('teamKills_MAX', 'int'),\n",
       " ('teamKills_AVG', 'int'),\n",
       " ('killPlace_MAX', 'int'),\n",
       " ('rankPoints_MAX', 'int'),\n",
       " ('killPoints_MAX', 'int'),\n",
       " ('winPoints_MAX', 'int')]"
      ]
     },
     "execution_count": 2,
     "metadata": {},
     "output_type": "execute_result"
    }
   ],
   "source": [
    "# load the dataset\n",
    "data = spark.read.csv(\"GROUP2.csv.gz\", header=True, sep=',',inferSchema=\"true\")\n",
    "#renaming winPlaceClass with label\n",
    "data = data.withColumn(\"winPlaceClass\", col(\"winPlaceClass\") -1)\n",
    "data = data.withColumnRenamed('winPlaceClass', 'label')\n",
    "data.dtypes"
   ]
  },
  {
   "cell_type": "code",
   "execution_count": 3,
   "id": "systematic-starter",
   "metadata": {},
   "outputs": [],
   "source": [
    "inputCols =  data.columns\n",
    "\n",
    "toRemove = ['matchId', 'groupId', 'killPlace_MAX', 'rankPoints_MAX', 'killPoints_MAX', 'winPoints_MAX', 'label']\n",
    "inputCols = list(set(inputCols) - set(toRemove))"
   ]
  },
  {
   "cell_type": "code",
   "execution_count": 4,
   "id": "adverse-deposit",
   "metadata": {},
   "outputs": [],
   "source": [
    "from pyspark.ml.linalg import Vectors\n",
    "from pyspark.ml.feature import VectorAssembler\n",
    "\n",
    "assembler = VectorAssembler(\n",
    "    inputCols=inputCols,\n",
    "    outputCol=\"features\")\n",
    "\n",
    "output = assembler.transform(data)"
   ]
  },
  {
   "cell_type": "code",
   "execution_count": 5,
   "id": "crucial-melissa",
   "metadata": {},
   "outputs": [
    {
     "name": "stdout",
     "output_type": "stream",
     "text": [
      "training: 141090\n",
      "testing: 60342\n"
     ]
    }
   ],
   "source": [
    "seed = 42\n",
    "withReplacement=False\n",
    "output = output.sample(withReplacement, 0.1, seed).select(\"label\", \"features\")\n",
    "\n",
    "(training,testing) = output.randomSplit([0.7,0.3])\n",
    "print(F'training: {training.count()}')\n",
    "print(F'testing: {testing.count()}')"
   ]
  },
  {
   "cell_type": "code",
   "execution_count": 6,
   "id": "dried-department",
   "metadata": {},
   "outputs": [
    {
     "data": {
      "text/html": [
       "<div>\n",
       "<style scoped>\n",
       "    .dataframe tbody tr th:only-of-type {\n",
       "        vertical-align: middle;\n",
       "    }\n",
       "\n",
       "    .dataframe tbody tr th {\n",
       "        vertical-align: top;\n",
       "    }\n",
       "\n",
       "    .dataframe thead th {\n",
       "        text-align: right;\n",
       "    }\n",
       "</style>\n",
       "<table border=\"1\" class=\"dataframe\">\n",
       "  <thead>\n",
       "    <tr style=\"text-align: right;\">\n",
       "      <th></th>\n",
       "      <th>label</th>\n",
       "      <th>count</th>\n",
       "    </tr>\n",
       "  </thead>\n",
       "  <tbody>\n",
       "    <tr>\n",
       "      <th>0</th>\n",
       "      <td>1</td>\n",
       "      <td>32952</td>\n",
       "    </tr>\n",
       "    <tr>\n",
       "      <th>1</th>\n",
       "      <td>3</td>\n",
       "      <td>34920</td>\n",
       "    </tr>\n",
       "    <tr>\n",
       "      <th>2</th>\n",
       "      <td>5</td>\n",
       "      <td>3316</td>\n",
       "    </tr>\n",
       "    <tr>\n",
       "      <th>3</th>\n",
       "      <td>4</td>\n",
       "      <td>33578</td>\n",
       "    </tr>\n",
       "    <tr>\n",
       "      <th>4</th>\n",
       "      <td>2</td>\n",
       "      <td>33087</td>\n",
       "    </tr>\n",
       "    <tr>\n",
       "      <th>5</th>\n",
       "      <td>0</td>\n",
       "      <td>3237</td>\n",
       "    </tr>\n",
       "  </tbody>\n",
       "</table>\n",
       "</div>"
      ],
      "text/plain": [
       "   label  count\n",
       "0      1  32952\n",
       "1      3  34920\n",
       "2      5   3316\n",
       "3      4  33578\n",
       "4      2  33087\n",
       "5      0   3237"
      ]
     },
     "execution_count": 6,
     "metadata": {},
     "output_type": "execute_result"
    }
   ],
   "source": [
    "training.groupBy('label').count().toPandas()"
   ]
  },
  {
   "cell_type": "code",
   "execution_count": 7,
   "id": "turned-crime",
   "metadata": {},
   "outputs": [],
   "source": [
    "def plot_importances(models_list, top=10):\n",
    "    sns.set_style('whitegrid')\n",
    "    plt.figure()\n",
    "    fig, ax = plt.subplots(3,2,figsize=(12,16))\n",
    "    \n",
    "    for i, m in enumerate(models_list):\n",
    "        features_importances = pd.Series(m.featureImportances.toArray(), index=inputCols)\n",
    "        features_importances = features_importances.nlargest(top)\n",
    "\n",
    "        plt.subplot(3,2,i+1)\n",
    "        ax = sns.barplot(features_importances.index, features_importances.values)\n",
    "        ax.tick_params(axis='x', rotation=70)\n",
    "        ax.set(ylabel='importance')\n",
    "        plt.title(f\"Feature importance for class {i+1}\")\n",
    "\n",
    "    fig.tight_layout()\n",
    "    fig.savefig('GBTfeatureImportance.pdf', bbox_inches='tight')\n",
    "    plt.show()"
   ]
  },
  {
   "cell_type": "markdown",
   "id": "nutritional-threshold",
   "metadata": {},
   "source": [
    "Non fattibile...\n",
    "\n",
    "gbt = GBTClassifier(stepSize=0.1,\n",
    "                    labelCol=\"label\", seed=42, featureSubsetStrategy='auto')\n",
    "\n",
    "paramGrid = ParamGridBuilder() .addGrid(gbt.maxDepth, [5, 10, 15])  \\\n",
    "    .addGrid(gbt.minInstancesPerNode, [50]) \\\n",
    "    .addGrid(gbt.subsamplingRate, [0.5, 1]) \\\n",
    "    .addGrid(gbt.maxIter, [100, 150]) \\\n",
    "    .addGrid(gbt.minInfoGain, [0.0]) \\\n",
    "    .addGrid(gbt.maxBins, [100]) \\\n",
    "    .build()\n",
    "\n",
    "ovr = OneVsRest(classifier=gbt)\n",
    "\n",
    "crossval = CrossValidator(estimator=ovr,\n",
    "                          estimatorParamMaps=paramGrid,\n",
    "                          evaluator=MulticlassClassificationEvaluator(),\n",
    "                          numFolds=3) \n",
    "\n",
    "cvModel = crossval.fit(training)\n",
    "\n",
    "Best parameters\n",
    "print(cvModel.getEstimatorParamMaps()[np.argmax(cvModel.avgMetrics)])"
   ]
  },
  {
   "cell_type": "code",
   "execution_count": null,
   "id": "closing-maria",
   "metadata": {},
   "outputs": [],
   "source": []
  },
  {
   "cell_type": "markdown",
   "id": "chronic-rebecca",
   "metadata": {},
   "source": [
    "Gradient Boosted Trees supporta solo la classificazione binaria in pyspark, si creano 6 modelli GBT per ogni classe usando OneVsRest Classifier."
   ]
  },
  {
   "cell_type": "code",
   "execution_count": 27,
   "id": "pacific-evolution",
   "metadata": {},
   "outputs": [],
   "source": [
    "gbt = GBTClassifier(maxIter=100, maxDepth=8, subsamplingRate=0.8,\n",
    "                    labelCol=\"label\", seed=42, featureSubsetStrategy='auto')\n",
    "ovr = OneVsRest(classifier=gbt, labelCol='label', predictionCol='prediction')\n",
    "model = ovr.fit(training)"
   ]
  },
  {
   "cell_type": "code",
   "execution_count": 28,
   "id": "proprietary-ladder",
   "metadata": {},
   "outputs": [],
   "source": [
    "predictions = model.transform(testing)"
   ]
  },
  {
   "cell_type": "code",
   "execution_count": 29,
   "id": "divine-feature",
   "metadata": {},
   "outputs": [
    {
     "name": "stdout",
     "output_type": "stream",
     "text": [
      "root\n",
      " |-- label: integer (nullable = true)\n",
      " |-- features: vector (nullable = true)\n",
      " |-- rawPrediction: string (nullable = true)\n",
      " |-- prediction: double (nullable = true)\n",
      "\n"
     ]
    }
   ],
   "source": [
    "predictions.printSchema()"
   ]
  },
  {
   "cell_type": "markdown",
   "id": "equipped-roberts",
   "metadata": {},
   "source": [
    "rawPrediction è string e da crea problemi nell'utilizzo del dataframe, si droppa la colonna"
   ]
  },
  {
   "cell_type": "code",
   "execution_count": 30,
   "id": "hearing-original",
   "metadata": {},
   "outputs": [],
   "source": [
    "predictions = predictions.drop('rawPrediction')"
   ]
  },
  {
   "cell_type": "code",
   "execution_count": 31,
   "id": "realistic-skating",
   "metadata": {},
   "outputs": [
    {
     "name": "stdout",
     "output_type": "stream",
     "text": [
      "+-----+--------------------+----------+\n",
      "|label|            features|prediction|\n",
      "+-----+--------------------+----------+\n",
      "|    0|(51,[0,1,2,3,4,5,...|       1.0|\n",
      "|    0|(51,[0,1,2,3,4,5,...|       0.0|\n",
      "|    0|(51,[0,1,2,3,4,5,...|       2.0|\n",
      "|    0|(51,[0,1,2,3,4,5,...|       1.0|\n",
      "|    0|(51,[0,1,2,3,4,5,...|       1.0|\n",
      "+-----+--------------------+----------+\n",
      "only showing top 5 rows\n",
      "\n"
     ]
    }
   ],
   "source": [
    "predictions.show(5)"
   ]
  },
  {
   "cell_type": "code",
   "execution_count": 32,
   "id": "supported-baseball",
   "metadata": {},
   "outputs": [
    {
     "name": "stdout",
     "output_type": "stream",
     "text": [
      "Recall = 0.72921784742049\n",
      "Precision = 0.7270992561598106\n",
      "F1 measure = 0.7265836393601443\n",
      "Accuracy = 0.72921784742049\n",
      "Class 0.0 precision = 0.6066481994459834\n",
      "Class 0.0 recall = 0.3062937062937063\n",
      "Class 0.0 F1 Measure = 0.4070631970260222\n",
      "Class 1.0 precision = 0.748800756705628\n",
      "Class 1.0 recall = 0.7897812299579563\n",
      "Class 1.0 F1 Measure = 0.7687452313241313\n",
      "Class 2.0 precision = 0.6590711805555556\n",
      "Class 2.0 recall = 0.6502283756779903\n",
      "Class 2.0 F1 Measure = 0.6546199166546918\n",
      "Class 3.0 precision = 0.7053342956498917\n",
      "Class 3.0 recall = 0.7121091679915209\n",
      "Class 3.0 F1 Measure = 0.7087055410884397\n",
      "Class 4.0 precision = 0.8053746486597655\n",
      "Class 4.0 recall = 0.8218833076815447\n",
      "Class 4.0 F1 Measure = 0.8135452373532771\n",
      "Class 5.0 precision = 0.7492984097287184\n",
      "Class 5.0 recall = 0.5808556925308195\n",
      "Class 5.0 F1 Measure = 0.6544117647058824\n",
      "Confusion Matrix\n",
      "[[4.3800e+02 9.6300e+02 2.7000e+01 1.0000e+00 1.0000e+00 0.0000e+00]\n",
      " [2.8000e+02 1.1083e+04 2.5780e+03 8.8000e+01 4.0000e+00 0.0000e+00]\n",
      " [4.0000e+00 2.7140e+03 9.1110e+03 2.1330e+03 4.7000e+01 3.0000e+00]\n",
      " [0.0000e+00 3.9000e+01 2.0900e+03 1.0750e+04 2.2090e+03 8.0000e+00]\n",
      " [0.0000e+00 2.0000e+00 1.8000e+01 2.2690e+03 1.1748e+04 2.5700e+02]\n",
      " [0.0000e+00 0.0000e+00 0.0000e+00 0.0000e+00 5.7800e+02 8.0100e+02]]\n"
     ]
    }
   ],
   "source": [
    "predictionAndLabels = predictions.rdd.map(lambda x: (x.prediction, float(x.label)))\n",
    "metrics = MulticlassMetrics(predictionAndLabels)\n",
    "\n",
    "# Summary stats\n",
    "print(\"Recall = %s\" % metrics.weightedRecall)\n",
    "print(\"Precision = %s\" % metrics.weightedPrecision)\n",
    "print(\"F1 measure = %s\" % metrics.weightedFMeasure())\n",
    "print(\"Accuracy = %s\" % metrics.accuracy)\n",
    "\n",
    "# Individual label stats\n",
    "labels = [0.0, 1.0, 2.0 ,3.0, 4.0, 5.0]\n",
    "for label in labels:\n",
    "    print(\"Class %s precision = %s\" % (label, metrics.precision(label)))\n",
    "    print(\"Class %s recall = %s\" % (label, metrics.recall(label)))\n",
    "    print(\"Class %s F1 Measure = %s\" % (label, metrics.fMeasure(label)))\n",
    "    \n",
    "print('Confusion Matrix')\n",
    "print(metrics.confusionMatrix().toArray())"
   ]
  },
  {
   "cell_type": "code",
   "execution_count": null,
   "id": "measured-google",
   "metadata": {},
   "outputs": [],
   "source": []
  },
  {
   "cell_type": "code",
   "execution_count": 18,
   "id": "desperate-gender",
   "metadata": {},
   "outputs": [],
   "source": [
    "gbt = GBTClassifier(maxIter=150, maxDepth=10, subsamplingRate=0.5,\n",
    "                    labelCol=\"label\", seed=42, featureSubsetStrategy='auto')\n",
    "ovr = OneVsRest(classifier=gbt)\n",
    "model = ovr.fit(training)"
   ]
  },
  {
   "cell_type": "code",
   "execution_count": 19,
   "id": "amazing-oxide",
   "metadata": {},
   "outputs": [],
   "source": [
    "predictions = model.transform(testing)"
   ]
  },
  {
   "cell_type": "code",
   "execution_count": 20,
   "id": "typical-hybrid",
   "metadata": {},
   "outputs": [
    {
     "name": "stdout",
     "output_type": "stream",
     "text": [
      "Recall = 0.7173992430781488\n",
      "Precision = 0.7151127244701496\n",
      "F1 measure = 0.7154529335678037\n",
      "Accuracy = 0.7173992430781488\n"
     ]
    }
   ],
   "source": [
    "predictionAndLabels = predictions.rdd.map(lambda x: (x.prediction, float(x.label)))\n",
    "metrics = MulticlassMetrics(predictionAndLabels)\n",
    "# Summary stats\n",
    "print(\"Recall = %s\" % metrics.weightedRecall)\n",
    "print(\"Precision = %s\" % metrics.weightedPrecision)\n",
    "print(\"F1 measure = %s\" % metrics.weightedFMeasure())\n",
    "print(\"Accuracy = %s\" % metrics.accuracy)"
   ]
  },
  {
   "cell_type": "code",
   "execution_count": null,
   "id": "rising-proxy",
   "metadata": {},
   "outputs": [],
   "source": []
  },
  {
   "cell_type": "markdown",
   "id": "rental-fireplace",
   "metadata": {},
   "source": [
    "Con i parametri simili a quelli del miglior Decision Tree"
   ]
  },
  {
   "cell_type": "code",
   "execution_count": 39,
   "id": "animal-clerk",
   "metadata": {},
   "outputs": [],
   "source": [
    "gbt = GBTClassifier(maxIter=100, maxDepth=10, subsamplingRate=0.8, maxBins=128,\n",
    "                    minInstancesPerNode=30, minInfoGain=0.0,\n",
    "                    labelCol=\"label\", seed=42, featureSubsetStrategy='auto')\n",
    "ovr = OneVsRest(classifier=gbt)\n",
    "model = ovr.fit(training)"
   ]
  },
  {
   "cell_type": "code",
   "execution_count": 40,
   "id": "hundred-immune",
   "metadata": {},
   "outputs": [],
   "source": [
    "predictions = model.transform(testing)"
   ]
  },
  {
   "cell_type": "code",
   "execution_count": 41,
   "id": "vulnerable-shark",
   "metadata": {},
   "outputs": [
    {
     "name": "stdout",
     "output_type": "stream",
     "text": [
      "Recall = 0.7288692649890445\n",
      "Precision = 0.726853907703553\n",
      "F1 measure = 0.7263832408243072\n",
      "Accuracy = 0.7288692649890446\n"
     ]
    }
   ],
   "source": [
    "predictionAndLabels = predictions.rdd.map(lambda x: (x.prediction, float(x.label)))\n",
    "metrics = MulticlassMetrics(predictionAndLabels)\n",
    "# Summary stats\n",
    "print(\"Recall = %s\" % metrics.weightedRecall)\n",
    "print(\"Precision = %s\" % metrics.weightedPrecision)\n",
    "print(\"F1 measure = %s\" % metrics.weightedFMeasure())\n",
    "print(\"Accuracy = %s\" % metrics.accuracy)"
   ]
  },
  {
   "cell_type": "code",
   "execution_count": null,
   "id": "handmade-theme",
   "metadata": {},
   "outputs": [],
   "source": []
  },
  {
   "cell_type": "code",
   "execution_count": null,
   "id": "pending-optics",
   "metadata": {},
   "outputs": [],
   "source": []
  },
  {
   "cell_type": "code",
   "execution_count": 42,
   "id": "widespread-japanese",
   "metadata": {},
   "outputs": [],
   "source": [
    "gbt = GBTClassifier(maxIter=120, maxDepth=8, subsamplingRate=0.9, maxBins=64,\n",
    "                    minInstancesPerNode=10, minInfoGain=0.0,\n",
    "                    labelCol=\"label\", seed=42, featureSubsetStrategy='auto')\n",
    "ovr = OneVsRest(classifier=gbt)\n",
    "model = ovr.fit(training)"
   ]
  },
  {
   "cell_type": "code",
   "execution_count": 43,
   "id": "imperial-contemporary",
   "metadata": {},
   "outputs": [],
   "source": [
    "predictions = model.transform(testing)"
   ]
  },
  {
   "cell_type": "code",
   "execution_count": 44,
   "id": "formal-spine",
   "metadata": {},
   "outputs": [
    {
     "name": "stdout",
     "output_type": "stream",
     "text": [
      "Recall = 0.7296494256689463\n",
      "Precision = 0.7275140940283782\n",
      "F1 measure = 0.7271396355469912\n",
      "Accuracy = 0.7296494256689463\n"
     ]
    }
   ],
   "source": [
    "predictionAndLabels = predictions.rdd.map(lambda x: (x.prediction, float(x.label)))\n",
    "metrics = MulticlassMetrics(predictionAndLabels)\n",
    "# Summary stats\n",
    "print(\"Recall = %s\" % metrics.weightedRecall)\n",
    "print(\"Precision = %s\" % metrics.weightedPrecision)\n",
    "print(\"F1 measure = %s\" % metrics.weightedFMeasure())\n",
    "print(\"Accuracy = %s\" % metrics.accuracy)"
   ]
  },
  {
   "cell_type": "code",
   "execution_count": null,
   "id": "supported-reaction",
   "metadata": {},
   "outputs": [],
   "source": []
  },
  {
   "cell_type": "code",
   "execution_count": null,
   "id": "adult-looking",
   "metadata": {},
   "outputs": [],
   "source": []
  },
  {
   "cell_type": "code",
   "execution_count": 45,
   "id": "proper-consumer",
   "metadata": {},
   "outputs": [],
   "source": [
    "gbt = GBTClassifier(maxIter=120, maxDepth=8, subsamplingRate=0.9, maxBins=64,\n",
    "                    minInstancesPerNode=1, minInfoGain=0.0,\n",
    "                    labelCol=\"label\", seed=42, featureSubsetStrategy='auto')\n",
    "ovr = OneVsRest(classifier=gbt)\n",
    "model = ovr.fit(training)"
   ]
  },
  {
   "cell_type": "code",
   "execution_count": 46,
   "id": "combined-sally",
   "metadata": {},
   "outputs": [],
   "source": [
    "predictions = model.transform(testing)"
   ]
  },
  {
   "cell_type": "code",
   "execution_count": 47,
   "id": "boxed-adams",
   "metadata": {},
   "outputs": [
    {
     "name": "stdout",
     "output_type": "stream",
     "text": [
      "Recall = 0.7283214925967731\n",
      "Precision = 0.7261404462111776\n",
      "F1 measure = 0.7257916837353166\n",
      "Accuracy = 0.7283214925967731\n"
     ]
    }
   ],
   "source": [
    "predictionAndLabels = predictions.rdd.map(lambda x: (x.prediction, float(x.label)))\n",
    "metrics = MulticlassMetrics(predictionAndLabels)\n",
    "# Summary stats\n",
    "print(\"Recall = %s\" % metrics.weightedRecall)\n",
    "print(\"Precision = %s\" % metrics.weightedPrecision)\n",
    "print(\"F1 measure = %s\" % metrics.weightedFMeasure())\n",
    "print(\"Accuracy = %s\" % metrics.accuracy)"
   ]
  },
  {
   "cell_type": "code",
   "execution_count": null,
   "id": "composed-revelation",
   "metadata": {},
   "outputs": [],
   "source": []
  },
  {
   "cell_type": "code",
   "execution_count": null,
   "id": "surface-snake",
   "metadata": {},
   "outputs": [],
   "source": []
  },
  {
   "cell_type": "code",
   "execution_count": 51,
   "id": "egyptian-mortgage",
   "metadata": {},
   "outputs": [],
   "source": [
    "gbt = GBTClassifier(maxIter=100, maxDepth=5, subsamplingRate=0.9, maxBins=64,\n",
    "                    minInstancesPerNode=10, minInfoGain=0.0,\n",
    "                    labelCol=\"label\", seed=42, featureSubsetStrategy='auto')\n",
    "ovr = OneVsRest(classifier=gbt)\n",
    "model = ovr.fit(training)"
   ]
  },
  {
   "cell_type": "code",
   "execution_count": 52,
   "id": "oriented-luther",
   "metadata": {},
   "outputs": [],
   "source": [
    "predictions = model.transform(testing)"
   ]
  },
  {
   "cell_type": "code",
   "execution_count": 53,
   "id": "coordinate-mistake",
   "metadata": {},
   "outputs": [
    {
     "name": "stdout",
     "output_type": "stream",
     "text": [
      "Recall = 0.7296494256689463\n",
      "Precision = 0.727889473980648\n",
      "F1 measure = 0.7262292817834816\n",
      "Accuracy = 0.7296494256689463\n"
     ]
    }
   ],
   "source": [
    "predictionAndLabels = predictions.rdd.map(lambda x: (x.prediction, float(x.label)))\n",
    "metrics = MulticlassMetrics(predictionAndLabels)\n",
    "# Summary stats\n",
    "print(\"Recall = %s\" % metrics.weightedRecall)\n",
    "print(\"Precision = %s\" % metrics.weightedPrecision)\n",
    "print(\"F1 measure = %s\" % metrics.weightedFMeasure())\n",
    "print(\"Accuracy = %s\" % metrics.accuracy)"
   ]
  },
  {
   "cell_type": "markdown",
   "id": "criminal-burning",
   "metadata": {},
   "source": [
    "## Final Model\n",
    "Scegliamo il modello con F1 measure più alta"
   ]
  },
  {
   "cell_type": "code",
   "execution_count": 10,
   "id": "common-operation",
   "metadata": {},
   "outputs": [
    {
     "name": "stdout",
     "output_type": "stream",
     "text": [
      "CPU times: user 248 ms, sys: 69.4 ms, total: 318 ms\n",
      "Wall time: 24min 47s\n"
     ]
    }
   ],
   "source": [
    "%%time\n",
    "gbt = GBTClassifier(maxIter=120, maxDepth=8, subsamplingRate=0.9, maxBins=64,\n",
    "                    minInstancesPerNode=10, minInfoGain=0.0,\n",
    "                    labelCol=\"label\", seed=42, featureSubsetStrategy='auto')\n",
    "ovr = OneVsRest(classifier=gbt)\n",
    "finalModel = ovr.fit(training)"
   ]
  },
  {
   "cell_type": "code",
   "execution_count": 11,
   "id": "spiritual-blackberry",
   "metadata": {},
   "outputs": [],
   "source": [
    "predictions = finalModel.transform(testing)"
   ]
  },
  {
   "cell_type": "code",
   "execution_count": 13,
   "id": "dedicated-singles",
   "metadata": {},
   "outputs": [],
   "source": [
    "predictions = predictions.drop('rawPrediction')"
   ]
  },
  {
   "cell_type": "code",
   "execution_count": 14,
   "id": "square-destination",
   "metadata": {},
   "outputs": [
    {
     "name": "stdout",
     "output_type": "stream",
     "text": [
      "Recall = 0.7332372145437672\n",
      "Precision = 0.731621237535386\n",
      "F1 measure = 0.7307254240728762\n",
      "Accuracy = 0.7332372145437672\n",
      "Class 0.0 precision = 0.6265734265734266\n",
      "Class 0.0 recall = 0.30960608154803043\n",
      "Class 0.0 F1 Measure = 0.4144310823311749\n",
      "Class 1.0 precision = 0.7539041464728056\n",
      "Class 1.0 recall = 0.785909760718546\n",
      "Class 1.0 F1 Measure = 0.7695743291991618\n",
      "Class 2.0 precision = 0.6569143186567702\n",
      "Class 2.0 recall = 0.6520743919885551\n",
      "Class 2.0 F1 Measure = 0.654485407617475\n",
      "Class 3.0 precision = 0.7063351095322676\n",
      "Class 3.0 recall = 0.7217180883242589\n",
      "Class 3.0 F1 Measure = 0.7139437462597248\n",
      "Class 4.0 precision = 0.8151054103841168\n",
      "Class 4.0 recall = 0.8289044612502602\n",
      "Class 4.0 F1 Measure = 0.8219470244238045\n",
      "Class 5.0 precision = 0.7693050193050193\n",
      "Class 5.0 recall = 0.5800582241630277\n",
      "Class 5.0 F1 Measure = 0.6614107883817427\n",
      "Confusion Matrix\n",
      "[[4.4800e+02 9.7100e+02 2.7000e+01 0.0000e+00 0.0000e+00 1.0000e+00]\n",
      " [2.5800e+02 1.1200e+04 2.6980e+03 9.2000e+01 3.0000e+00 0.0000e+00]\n",
      " [9.0000e+00 2.6610e+03 9.1160e+03 2.1520e+03 4.0000e+01 2.0000e+00]\n",
      " [0.0000e+00 2.3000e+01 2.0240e+03 1.0737e+04 2.0900e+03 3.0000e+00]\n",
      " [0.0000e+00 1.0000e+00 1.2000e+01 2.2200e+03 1.1947e+04 2.3300e+02]\n",
      " [0.0000e+00 0.0000e+00 0.0000e+00 0.0000e+00 5.7700e+02 7.9700e+02]]\n"
     ]
    }
   ],
   "source": [
    "predictionAndLabels = predictions.rdd.map(lambda x: (x.prediction, float(x.label)))\n",
    "metrics = MulticlassMetrics(predictionAndLabels)\n",
    "\n",
    "# Summary stats\n",
    "print(\"Recall = %s\" % metrics.weightedRecall)\n",
    "print(\"Precision = %s\" % metrics.weightedPrecision)\n",
    "print(\"F1 measure = %s\" % metrics.weightedFMeasure())\n",
    "print(\"Accuracy = %s\" % metrics.accuracy)\n",
    "\n",
    "# Individual label stats\n",
    "labels = [0.0, 1.0, 2.0 ,3.0, 4.0, 5.0]\n",
    "for label in labels:\n",
    "    print(\"Class %s precision = %s\" % (label, metrics.precision(label)))\n",
    "    print(\"Class %s recall = %s\" % (label, metrics.recall(label)))\n",
    "    print(\"Class %s F1 Measure = %s\" % (label, metrics.fMeasure(label)))\n",
    "    \n",
    "print('Confusion Matrix')\n",
    "print(metrics.confusionMatrix().toArray())"
   ]
  },
  {
   "cell_type": "code",
   "execution_count": 16,
   "id": "driven-mineral",
   "metadata": {},
   "outputs": [
    {
     "data": {
      "text/plain": [
       "[GBTClassificationModel: uid = GBTClassifier_497e24de1582, numTrees=120, numClasses=2, numFeatures=51,\n",
       " GBTClassificationModel: uid = GBTClassifier_497e24de1582, numTrees=120, numClasses=2, numFeatures=51,\n",
       " GBTClassificationModel: uid = GBTClassifier_497e24de1582, numTrees=120, numClasses=2, numFeatures=51,\n",
       " GBTClassificationModel: uid = GBTClassifier_497e24de1582, numTrees=120, numClasses=2, numFeatures=51,\n",
       " GBTClassificationModel: uid = GBTClassifier_497e24de1582, numTrees=120, numClasses=2, numFeatures=51,\n",
       " GBTClassificationModel: uid = GBTClassifier_497e24de1582, numTrees=120, numClasses=2, numFeatures=51]"
      ]
     },
     "execution_count": 16,
     "metadata": {},
     "output_type": "execute_result"
    }
   ],
   "source": [
    "finalModel.models"
   ]
  },
  {
   "cell_type": "code",
   "execution_count": 18,
   "id": "smooth-james",
   "metadata": {},
   "outputs": [
    {
     "name": "stderr",
     "output_type": "stream",
     "text": [
      "Exception ignored in: <function JavaModelWrapper.__del__ at 0x7fe89226d0d0>\n",
      "Traceback (most recent call last):\n",
      "  File \"/usr/local/lib/python3.8/dist-packages/pyspark/mllib/common.py\", line 137, in __del__\n",
      "    self._sc._gateway.detach(self._java_model)\n",
      "AttributeError: 'MulticlassMetrics' object has no attribute '_sc'\n",
      "/usr/local/lib/python3.8/dist-packages/seaborn/_decorators.py:36: FutureWarning: Pass the following variables as keyword args: x, y. From version 0.12, the only valid positional argument will be `data`, and passing other arguments without an explicit keyword will result in an error or misinterpretation.\n",
      "  warnings.warn(\n",
      "/usr/local/lib/python3.8/dist-packages/seaborn/_decorators.py:36: FutureWarning: Pass the following variables as keyword args: x, y. From version 0.12, the only valid positional argument will be `data`, and passing other arguments without an explicit keyword will result in an error or misinterpretation.\n",
      "  warnings.warn(\n",
      "/usr/local/lib/python3.8/dist-packages/seaborn/_decorators.py:36: FutureWarning: Pass the following variables as keyword args: x, y. From version 0.12, the only valid positional argument will be `data`, and passing other arguments without an explicit keyword will result in an error or misinterpretation.\n",
      "  warnings.warn(\n",
      "/usr/local/lib/python3.8/dist-packages/seaborn/_decorators.py:36: FutureWarning: Pass the following variables as keyword args: x, y. From version 0.12, the only valid positional argument will be `data`, and passing other arguments without an explicit keyword will result in an error or misinterpretation.\n",
      "  warnings.warn(\n",
      "/usr/local/lib/python3.8/dist-packages/seaborn/_decorators.py:36: FutureWarning: Pass the following variables as keyword args: x, y. From version 0.12, the only valid positional argument will be `data`, and passing other arguments without an explicit keyword will result in an error or misinterpretation.\n",
      "  warnings.warn(\n",
      "/usr/local/lib/python3.8/dist-packages/seaborn/_decorators.py:36: FutureWarning: Pass the following variables as keyword args: x, y. From version 0.12, the only valid positional argument will be `data`, and passing other arguments without an explicit keyword will result in an error or misinterpretation.\n",
      "  warnings.warn(\n"
     ]
    },
    {
     "data": {
      "text/plain": [
       "<Figure size 432x288 with 0 Axes>"
      ]
     },
     "metadata": {},
     "output_type": "display_data"
    },
    {
     "data": {
      "image/png": "[encoded data removed]",
      "text/plain": [
       "<Figure size 864x1152 with 6 Axes>"
      ]
     },
     "metadata": {},
     "output_type": "display_data"
    }
   ],
   "source": [
    "plot_importances(finalModel.models)"
   ]
  },
  {
   "cell_type": "code",
   "execution_count": 19,
   "id": "lightweight-spirit",
   "metadata": {},
   "outputs": [],
   "source": [
    "from sklearn.metrics import classification_report, confusion_matrix"
   ]
  },
  {
   "cell_type": "code",
   "execution_count": 20,
   "id": "affiliated-portland",
   "metadata": {},
   "outputs": [],
   "source": [
    "y_true = predictions.select(['label']).collect()\n",
    "y_pred = predictions.select(['prediction']).collect()"
   ]
  },
  {
   "cell_type": "code",
   "execution_count": 21,
   "id": "functional-password",
   "metadata": {},
   "outputs": [
    {
     "name": "stdout",
     "output_type": "stream",
     "text": [
      "              precision    recall  f1-score   support\n",
      "\n",
      "           0       0.63      0.31      0.41      1447\n",
      "           1       0.75      0.79      0.77     14251\n",
      "           2       0.66      0.65      0.65     13980\n",
      "           3       0.71      0.72      0.71     14877\n",
      "           4       0.82      0.83      0.82     14413\n",
      "           5       0.77      0.58      0.66      1374\n",
      "\n",
      "    accuracy                           0.73     60342\n",
      "   macro avg       0.72      0.65      0.67     60342\n",
      "weighted avg       0.73      0.73      0.73     60342\n",
      "\n"
     ]
    }
   ],
   "source": [
    "print(classification_report(y_true, y_pred))"
   ]
  },
  {
   "cell_type": "code",
   "execution_count": 22,
   "id": "convenient-venture",
   "metadata": {},
   "outputs": [
    {
     "name": "stdout",
     "output_type": "stream",
     "text": [
      "[[  448   971    27     0     0     1]\n",
      " [  258 11200  2698    92     3     0]\n",
      " [    9  2661  9116  2152    40     2]\n",
      " [    0    23  2024 10737  2090     3]\n",
      " [    0     1    12  2220 11947   233]\n",
      " [    0     0     0     0   577   797]]\n"
     ]
    }
   ],
   "source": [
    "print(confusion_matrix(y_true, y_pred))"
   ]
  },
  {
   "cell_type": "code",
   "execution_count": null,
   "id": "nasty-minutes",
   "metadata": {},
   "outputs": [],
   "source": []
  },
  {
   "cell_type": "code",
   "execution_count": 25,
   "id": "suburban-parts",
   "metadata": {},
   "outputs": [
    {
     "data": {
      "image/png": "[encoded data removed]",
      "text/plain": [
       "<Figure size 432x288 with 1 Axes>"
      ]
     },
     "metadata": {},
     "output_type": "display_data"
    }
   ],
   "source": [
    "cross_tab = predictions.crosstab('prediction', 'label').toPandas().sort_values(by=[\"prediction_label\"]).set_index('prediction_label')\n",
    "sns.set_style('white')\n",
    "cross_tab.plot.bar(stacked=True)\n",
    "\n",
    "plt.ylabel(\"Num of record\")\n",
    "plt.xlabel(\"Predicted label\")\n",
    "plt.legend(title=\"True label\")\n",
    "\n",
    "plt.savefig(\"confMatrixGraph_GBT.pdf\")"
   ]
  },
  {
   "cell_type": "code",
   "execution_count": null,
   "id": "passive-leonard",
   "metadata": {},
   "outputs": [],
   "source": []
  },
  {
   "cell_type": "code",
   "execution_count": null,
   "id": "nonprofit-breath",
   "metadata": {},
   "outputs": [],
   "source": []
  }
 ],
 "metadata": {
  "kernelspec": {
   "display_name": "Python 3",
   "language": "python",
   "name": "python3"
  },
  "language_info": {
   "codemirror_mode": {
    "name": "ipython",
    "version": 3
   },
   "file_extension": ".py",
   "mimetype": "text/x-python",
   "name": "python",
   "nbconvert_exporter": "python",
   "pygments_lexer": "ipython3",
   "version": "3.8.10"
  }
 },
 "nbformat": 4,
 "nbformat_minor": 5
}
